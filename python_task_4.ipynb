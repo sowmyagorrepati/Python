{
  "nbformat": 4,
  "nbformat_minor": 0,
  "metadata": {
    "colab": {
      "provenance": [],
      "authorship_tag": "ABX9TyPP9O8Y6J6sRH03gLZldGij",
      "include_colab_link": true
    },
    "kernelspec": {
      "name": "python3",
      "display_name": "Python 3"
    },
    "language_info": {
      "name": "python"
    }
  },
  "cells": [
    {
      "cell_type": "markdown",
      "metadata": {
        "id": "view-in-github",
        "colab_type": "text"
      },
      "source": [
        "<a href=\"https://colab.research.google.com/github/sowmyagorrepati/Python/blob/main/python_task_4.ipynb\" target=\"_parent\"><img src=\"https://colab.research.google.com/assets/colab-badge.svg\" alt=\"Open In Colab\"/></a>"
      ]
    },
    {
      "cell_type": "markdown",
      "source": [
        "The Task 4 file includes Python programs for tasks like finding a missing number in a sequence, checking balanced parentheses, finding the longest word in a sentence, counting words, checking Pythagorean triplets, implementing bubble sort and binary search, and finding a subarray with a given sum. These tasks cover key concepts like searching algorithms, sorting, string manipulation, and stack usage."
      ],
      "metadata": {
        "id": "S4x_AY5do1aD"
      }
    },
    {
      "cell_type": "markdown",
      "source": [
        "**Find Missing Number**"
      ],
      "metadata": {
        "id": "yYcCoqoZcYSG"
      }
    },
    {
      "cell_type": "code",
      "source": [
        "def find_missing_number(arr):\n",
        "    n = len(arr)\n",
        "    expected_sum = (n + 1) * (n + 2) // 2\n",
        "    actual_sum = sum(arr)\n",
        "    return expected_sum - actual_sum\n",
        "\n",
        "arr = list(map(int, input(\"Enter numbers separated by space: \").split()))\n",
        "print(\"Missing Number:\", find_missing_number(arr))"
      ],
      "metadata": {
        "colab": {
          "base_uri": "https://localhost:8080/"
        },
        "id": "R8IcyINqccz7",
        "outputId": "f387ee97-4401-4aeb-acc4-1985370a1207"
      },
      "execution_count": null,
      "outputs": [
        {
          "output_type": "stream",
          "name": "stdout",
          "text": [
            "Enter numbers separated by space: 1 2 4 5\n",
            "Missing Number: 3\n"
          ]
        }
      ]
    },
    {
      "cell_type": "markdown",
      "source": [
        "**Check Balanced Parentheses**"
      ],
      "metadata": {
        "id": "53pgw_D5dq6U"
      }
    },
    {
      "cell_type": "code",
      "source": [
        "def is_balanced(s):\n",
        "    stack = []\n",
        "    brackets = {')': '(', '}': '{', ']': '['}\n",
        "\n",
        "    for char in s:\n",
        "        if char in brackets.values():\n",
        "            stack.append(char)\n",
        "        elif char in brackets.keys():\n",
        "            if not stack or stack.pop() != brackets[char]:\n",
        "                return False\n",
        "\n",
        "    return not stack\n",
        "\n",
        "s = input(\"Enter a string of parentheses: \")\n",
        "print(is_balanced(s))\n"
      ],
      "metadata": {
        "colab": {
          "base_uri": "https://localhost:8080/"
        },
        "id": "wb6s_mPsdzQk",
        "outputId": "2acfe735-2266-4e2a-8297-d90e8b06023b"
      },
      "execution_count": null,
      "outputs": [
        {
          "output_type": "stream",
          "name": "stdout",
          "text": [
            "Enter a string of parentheses: {[)}\n",
            "False\n"
          ]
        }
      ]
    },
    {
      "cell_type": "markdown",
      "source": [
        "**Longest Word in a Sentence**"
      ],
      "metadata": {
        "id": "p9GRLYlzd66G"
      }
    },
    {
      "cell_type": "code",
      "source": [
        "def longest_word(sentence):\n",
        "    words = sentence.split()\n",
        "    return max(words, key=len) if words else \"\"\n",
        "\n",
        "sentence = input(\"Enter a sentence: \")\n",
        "print(\"Longest Word:\", longest_word(sentence))"
      ],
      "metadata": {
        "colab": {
          "base_uri": "https://localhost:8080/"
        },
        "id": "JRhgBT-beAff",
        "outputId": "2553af4e-cb54-45e6-b0c7-c558e7014f96"
      },
      "execution_count": null,
      "outputs": [
        {
          "output_type": "stream",
          "name": "stdout",
          "text": [
            "Enter a sentence: hello welcome to my world.\n",
            "Longest Word: welcome\n"
          ]
        }
      ]
    },
    {
      "cell_type": "markdown",
      "source": [
        "**Count Words in a Sentence**"
      ],
      "metadata": {
        "id": "MPXW8d9weH-J"
      }
    },
    {
      "cell_type": "code",
      "source": [
        "def count_words(sentence):\n",
        "    return len(sentence.split())\n",
        "\n",
        "sentence = input(\"Enter a sentence: \")\n",
        "print(\"Word Count:\", count_words(sentence))"
      ],
      "metadata": {
        "colab": {
          "base_uri": "https://localhost:8080/"
        },
        "id": "21Jsub86eKe0",
        "outputId": "2fb63ba6-3e17-4cc5-c81f-6541f8f4419e"
      },
      "execution_count": null,
      "outputs": [
        {
          "output_type": "stream",
          "name": "stdout",
          "text": [
            "Enter a sentence: hello world\n",
            "Word Count: 2\n"
          ]
        }
      ]
    },
    {
      "cell_type": "markdown",
      "source": [
        "**Check Pythagorean Triplet**"
      ],
      "metadata": {
        "id": "7BcAOG3ieSLr"
      }
    },
    {
      "cell_type": "code",
      "source": [
        "def is_pythagorean_triplet(a, b, c):\n",
        "    a, b, c = sorted([a, b, c])\n",
        "    return a**2 + b**2 == c**2\n",
        "\n",
        "a, b, c = map(int, input(\"Enter three numbers separated by space: \").split())\n",
        "print(is_pythagorean_triplet(a, b, c))\n"
      ],
      "metadata": {
        "colab": {
          "base_uri": "https://localhost:8080/"
        },
        "id": "KebzOOZneUjT",
        "outputId": "dd969855-81a4-4b45-c5d1-7a7bb507d390"
      },
      "execution_count": null,
      "outputs": [
        {
          "output_type": "stream",
          "name": "stdout",
          "text": [
            "Enter three numbers separated by space: 4 3 5\n",
            "True\n"
          ]
        }
      ]
    },
    {
      "cell_type": "markdown",
      "source": [
        "**Bubble Sort**"
      ],
      "metadata": {
        "id": "HIandmS_ej5K"
      }
    },
    {
      "cell_type": "code",
      "source": [
        "def bubble_sort(arr):\n",
        "    n = len(arr)\n",
        "    for i in range(n):\n",
        "        swapped = False\n",
        "        for j in range(n - i - 1):\n",
        "            if arr[j] > arr[j + 1]:\n",
        "                arr[j], arr[j + 1] = arr[j + 1], arr[j]\n",
        "                swapped = True\n",
        "        if not swapped:\n",
        "            break\n",
        "    return arr\n",
        "\n",
        "arr = list(map(int, input(\"Enter numbers separated by space: \").split()))\n",
        "print(\"Sorted List:\", bubble_sort(arr))"
      ],
      "metadata": {
        "colab": {
          "base_uri": "https://localhost:8080/"
        },
        "id": "lqc_MdN2emN9",
        "outputId": "937da74d-b0bf-4a73-dada-d00d2d82bcfd"
      },
      "execution_count": null,
      "outputs": [
        {
          "output_type": "stream",
          "name": "stdout",
          "text": [
            "Enter numbers separated by space: 23 8 15 22 \n",
            "Sorted List: [8, 15, 22, 23]\n"
          ]
        }
      ]
    },
    {
      "cell_type": "markdown",
      "source": [
        "**Binary Search**"
      ],
      "metadata": {
        "id": "pjJYnObae100"
      }
    },
    {
      "cell_type": "code",
      "source": [
        "def binary_search(arr, target):\n",
        "    left, right = 0, len(arr) - 1\n",
        "\n",
        "    while left <= right:\n",
        "        mid = (left + right) // 2\n",
        "\n",
        "        if arr[mid] == target:\n",
        "            return mid  # Target found, return index\n",
        "        elif arr[mid] < target:\n",
        "            left = mid + 1  # Search right half\n",
        "        else:\n",
        "            right = mid - 1  # Search left half\n",
        "\n",
        "    return -1  # Target not found\n",
        "\n",
        "arr = list(map(int, input(\"Enter sorted numbers separated by space: \").split()))\n",
        "target = int(input(\"Enter the target number: \"))\n",
        "\n",
        "result = binary_search(arr, target)\n",
        "\n",
        "if result != -1:\n",
        "    print(f\"Target found at index: {result}\")\n",
        "else:\n",
        "    print(\"Target not found\")"
      ],
      "metadata": {
        "colab": {
          "base_uri": "https://localhost:8080/"
        },
        "id": "jMl5tIf7e45n",
        "outputId": "91bc630b-21e0-48d7-d27c-8f438eeda421"
      },
      "execution_count": null,
      "outputs": [
        {
          "output_type": "stream",
          "name": "stdout",
          "text": [
            "Enter sorted numbers separated by space: 1 8 15 22 23 50\n",
            "Enter the target number: 25\n",
            "Target not found\n"
          ]
        }
      ]
    },
    {
      "cell_type": "markdown",
      "source": [
        "**Find Subarray with Given Sum**"
      ],
      "metadata": {
        "id": "fUdaNkywfsAO"
      }
    },
    {
      "cell_type": "code",
      "source": [
        "def find_subarray_with_given_sum(arr, S):\n",
        "    current_sum = 0\n",
        "    start = 0\n",
        "\n",
        "    for end in range(len(arr)):\n",
        "        current_sum += arr[end]\n",
        "\n",
        "        while current_sum > S and start <= end:\n",
        "            current_sum -= arr[start]\n",
        "            start += 1\n",
        "\n",
        "        if current_sum == S:\n",
        "            return start, end  # Indices of the subarray\n",
        "\n",
        "    return -1  # No subarray found\n",
        "\n",
        "arr = list(map(int, input(\"Enter numbers separated by space: \").split()))\n",
        "S = int(input(\"Enter the sum: \"))\n",
        "\n",
        "result = find_subarray_with_given_sum(arr, S)\n",
        "\n",
        "if result != -1:\n",
        "    print(f\"Subarray found from index {result[0]} to {result[1]}\")\n",
        "else:\n",
        "    print(\"No subarray with the given sum exists.\")"
      ],
      "metadata": {
        "colab": {
          "base_uri": "https://localhost:8080/"
        },
        "id": "s6zES1JQgC2X",
        "outputId": "9cafd32c-f9b5-4376-fc4f-83d80bb33890"
      },
      "execution_count": null,
      "outputs": [
        {
          "output_type": "stream",
          "name": "stdout",
          "text": [
            "Enter numbers separated by space: 2 1 3 20\n",
            "Enter the sum: 23\n",
            "Subarray found from index 2 to 3\n"
          ]
        }
      ]
    },
    {
      "cell_type": "markdown",
      "source": [
        "**Log Analysis System**"
      ],
      "metadata": {
        "id": "5aiRO9Aqg4pq"
      }
    },
    {
      "cell_type": "code",
      "source": [
        "import re\n",
        "from collections import Counter\n",
        "\n",
        "# Function to parse the log file and extract relevant data\n",
        "def parse_log_file(file_path):\n",
        "    ip_counter = Counter()\n",
        "    url_counter = Counter()\n",
        "    response_code_counter = Counter()\n",
        "\n",
        "    # Regular expression pattern to extract IP, URL, and response code from logs\n",
        "    log_pattern = r'(\\d+\\.\\d+\\.\\d+\\.\\d+) - - \\[.*\\] \".*\" (\\d{3}) .* \"(.*?)\"'\n",
        "\n",
        "    with open(file_path, 'r') as log_file:\n",
        "        for line in log_file:\n",
        "            match = re.match(log_pattern, line)\n",
        "            if match:\n",
        "                ip = match.group(1)\n",
        "                response_code = match.group(2)\n",
        "                url = match.group(3)\n",
        "\n",
        "                # Update counters for IPs, URLs, and response codes\n",
        "                ip_counter[ip] += 1\n",
        "                url_counter[url] += 1\n",
        "                response_code_counter[response_code] += 1\n",
        "\n",
        "    return ip_counter, url_counter, response_code_counter\n",
        "\n",
        "# Function to display the insights\n",
        "def display_insights(ip_counter, url_counter, response_code_counter):\n",
        "    print(\"\\nMost Frequent IP Addresses:\")\n",
        "    for ip, count in ip_counter.most_common(5):\n",
        "        print(f\"{ip}: {count}\")\n",
        "\n",
        "    print(\"\\nMost Accessed URLs:\")\n",
        "    for url, count in url_counter.most_common(5):\n",
        "        print(f\"{url}: {count}\")\n",
        "\n",
        "    print(\"\\nMost Frequent Response Codes:\")\n",
        "    for code, count in response_code_counter.most_common(5):\n",
        "        print(f\"Code {code}: {count}\")\n",
        "\n",
        "# Main function to process the log file and display insights\n",
        "def main():\n",
        "    log_file_path = input(\"Enter the path of the log file: \")\n",
        "\n",
        "    # Parse the log file\n",
        "    ip_counter, url_counter, response_code_counter = parse_log_file(log_file_path)\n",
        "\n",
        "    # Display the insights\n",
        "    display_insights(ip_counter, url_counter, response_code_counter)\n",
        "\n",
        "if __name__ == \"__main__\":\n",
        "    main()"
      ],
      "metadata": {
        "id": "RNAiN1aZS7Cw"
      },
      "execution_count": null,
      "outputs": []
    }
  ]
}