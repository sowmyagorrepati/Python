{
  "nbformat": 4,
  "nbformat_minor": 0,
  "metadata": {
    "colab": {
      "provenance": [],
      "authorship_tag": "ABX9TyNJyRVZ+cCLBGRENqSYsrFL",
      "include_colab_link": true
    },
    "kernelspec": {
      "name": "python3",
      "display_name": "Python 3"
    },
    "language_info": {
      "name": "python"
    }
  },
  "cells": [
    {
      "cell_type": "markdown",
      "metadata": {
        "id": "view-in-github",
        "colab_type": "text"
      },
      "source": [
        "<a href=\"https://colab.research.google.com/github/sowmyagorrepati/Python/blob/main/python_task_6.ipynb\" target=\"_parent\"><img src=\"https://colab.research.google.com/assets/colab-badge.svg\" alt=\"Open In Colab\"/></a>"
      ]
    },
    {
      "cell_type": "markdown",
      "source": [
        "**Sudoku Validator**"
      ],
      "metadata": {
        "id": "WnD647TCYMO0"
      }
    },
    {
      "cell_type": "code",
      "execution_count": 1,
      "metadata": {
        "colab": {
          "base_uri": "https://localhost:8080/"
        },
        "id": "ehhYmLfxYIrN",
        "outputId": "ca06e600-52cf-41be-8708-1fbcbaaf5c86"
      },
      "outputs": [
        {
          "output_type": "stream",
          "name": "stdout",
          "text": [
            "Enter the Sudoku board row by row (use '.' for empty cells):\n",
            " 5 3 . . 7 . . . .\n",
            "6 . . 1 9 5 . . .\n",
            ". 9 8 . . . . 6 .\n",
            "8 . . . 6 . . . 3\n",
            "4 . . 8 . 3 . . 1\n",
            "7 . . . 2 . . . 6\n",
            ". 6 . . . . 2 8 .\n",
            ". . . 4 1 9 . . 5\n",
            ". . . . 8 . . 7 9\n",
            "True\n"
          ]
        }
      ],
      "source": [
        "def is_valid_sudoku(board):\n",
        "    def is_valid_group(group):\n",
        "        seen = set()\n",
        "        for num in group:\n",
        "            if num != '.' and num in seen:\n",
        "                return False\n",
        "            seen.add(num)\n",
        "        return True\n",
        "\n",
        "    # Check rows\n",
        "    for row in board:\n",
        "        if not is_valid_group(row):\n",
        "            return False\n",
        "\n",
        "    # Check columns\n",
        "    for col in zip(*board):\n",
        "        if not is_valid_group(col):\n",
        "            return False\n",
        "\n",
        "    # Check 3x3 sub-grids\n",
        "    for i in range(0, 9, 3):\n",
        "        for j in range(0, 9, 3):\n",
        "            grid = [board[x][y] for x in range(i, i + 3) for y in range(j, j + 3)]\n",
        "            if not is_valid_group(grid):\n",
        "                return False\n",
        "\n",
        "    return True\n",
        "\n",
        "# Take input from user\n",
        "sudoku_board = []\n",
        "print(\"Enter the Sudoku board row by row (use '.' for empty cells):\")\n",
        "for _ in range(9):\n",
        "    row = input().split()\n",
        "    sudoku_board.append(row)\n",
        "\n",
        "print(is_valid_sudoku(sudoku_board))"
      ]
    },
    {
      "cell_type": "markdown",
      "source": [
        "**Word Frequency in Text**"
      ],
      "metadata": {
        "id": "yMDVqV-EZuPm"
      }
    },
    {
      "cell_type": "code",
      "source": [
        "def word_frequency(text):\n",
        "    words = text.split()\n",
        "    freq_dict = {}\n",
        "\n",
        "    for word in words:\n",
        "        word = word.lower().strip(\".,!?;:\")  # Normalize words\n",
        "        freq_dict[word] = freq_dict.get(word, 0) + 1\n",
        "\n",
        "    return freq_dict\n",
        "\n",
        "# Take input from user\n",
        "text = input(\"Enter text: \")\n",
        "print(word_frequency(text))"
      ],
      "metadata": {
        "colab": {
          "base_uri": "https://localhost:8080/"
        },
        "id": "g0ahvVLHZwX9",
        "outputId": "2f1a7595-8c2b-4e6f-da4d-23a192f29c54"
      },
      "execution_count": 3,
      "outputs": [
        {
          "output_type": "stream",
          "name": "stdout",
          "text": [
            "Enter text: Hello world! Hello again, world.\n",
            "{'hello': 2, 'world': 2, 'again': 1}\n"
          ]
        }
      ]
    },
    {
      "cell_type": "markdown",
      "source": [
        "**Knapsack Problem (0/1)**"
      ],
      "metadata": {
        "id": "4DcNbhyFZ37Q"
      }
    },
    {
      "cell_type": "code",
      "source": [
        "def knapsack_01(weights, values, capacity):\n",
        "    n = len(weights)\n",
        "    dp = [[0] * (capacity + 1) for _ in range(n + 1)]\n",
        "\n",
        "    for i in range(1, n + 1):\n",
        "        for w in range(capacity + 1):\n",
        "            if weights[i - 1] <= w:\n",
        "                dp[i][w] = max(dp[i - 1][w], values[i - 1] + dp[i - 1][w - weights[i - 1]])\n",
        "            else:\n",
        "                dp[i][w] = dp[i - 1][w]\n",
        "\n",
        "    return dp[n][capacity]\n",
        "\n",
        "# Take input from user\n",
        "n = int(input(\"Enter number of items: \"))\n",
        "weights = list(map(int, input(\"Enter weights: \").split()))\n",
        "values = list(map(int, input(\"Enter values: \").split()))\n",
        "capacity = int(input(\"Enter knapsack capacity: \"))\n",
        "\n",
        "print(\"Maximum value that can be carried:\", knapsack_01(weights, values, capacity))"
      ],
      "metadata": {
        "colab": {
          "base_uri": "https://localhost:8080/"
        },
        "id": "77ZE_HWPaF_r",
        "outputId": "731fe3db-8347-4a9b-9563-fec377fedb7f"
      },
      "execution_count": 2,
      "outputs": [
        {
          "output_type": "stream",
          "name": "stdout",
          "text": [
            "Enter number of items: 3\n",
            "Enter weights: 2 3 4\n",
            "Enter values: 3 4 5\n",
            "Enter knapsack capacity: 5\n",
            "Maximum value that can be carried: 7\n"
          ]
        }
      ]
    },
    {
      "cell_type": "markdown",
      "source": [
        "** Merge Intervals**"
      ],
      "metadata": {
        "id": "-aIIxigsbQ8u"
      }
    },
    {
      "cell_type": "code",
      "source": [
        "def merge_intervals(intervals):\n",
        "    if not intervals:\n",
        "        return []\n",
        "\n",
        "    intervals.sort()  # Sort by start time\n",
        "    merged = [intervals[0]]\n",
        "\n",
        "    for start, end in intervals[1:]:\n",
        "        last_end = merged[-1][1]\n",
        "        if start <= last_end:\n",
        "            merged[-1][1] = max(last_end, end)  # Merge overlapping intervals\n",
        "        else:\n",
        "            merged.append([start, end])\n",
        "\n",
        "    return merged\n",
        "\n",
        "# Take input from user\n",
        "n = int(input(\"Enter number of intervals: \"))\n",
        "intervals = []\n",
        "for _ in range(n):\n",
        "    start, end = map(int, input(\"Enter interval (start end): \").split())\n",
        "    intervals.append([start, end])\n",
        "\n",
        "print(\"Merged Intervals:\", merge_intervals(intervals))\n"
      ],
      "metadata": {
        "colab": {
          "base_uri": "https://localhost:8080/"
        },
        "id": "1AO2MylebQPL",
        "outputId": "a1c69541-e175-4ed9-b9ba-9b60eeda23ec"
      },
      "execution_count": 4,
      "outputs": [
        {
          "output_type": "stream",
          "name": "stdout",
          "text": [
            "Enter number of intervals: 4\n",
            "Enter interval (start end): 1 3\n",
            "Enter interval (start end): 2 6\n",
            "Enter interval (start end): 8 10\n",
            "Enter interval (start end): 15 18\n",
            "Merged Intervals: [[1, 6], [8, 10], [15, 18]]\n"
          ]
        }
      ]
    },
    {
      "cell_type": "markdown",
      "source": [
        "**Find the Median of Two Sorted Arrays**"
      ],
      "metadata": {
        "id": "n7U8oo5kbt6d"
      }
    },
    {
      "cell_type": "code",
      "source": [
        "def find_median_sorted_arrays(nums1, nums2):\n",
        "    merged = sorted(nums1 + nums2)\n",
        "    n = len(merged)\n",
        "\n",
        "    if n % 2 == 1:\n",
        "        return merged[n // 2]\n",
        "    else:\n",
        "        return (merged[n // 2 - 1] + merged[n // 2]) / 2\n",
        "\n",
        "# Take input from user\n",
        "nums1 = list(map(int, input(\"Enter first sorted list: \").split()))\n",
        "nums2 = list(map(int, input(\"Enter second sorted list: \").split()))\n",
        "\n",
        "print(\"Median:\", find_median_sorted_arrays(nums1, nums2))"
      ],
      "metadata": {
        "colab": {
          "base_uri": "https://localhost:8080/"
        },
        "id": "vL0bFpEDb5X7",
        "outputId": "53f570d8-01e8-4c67-ddd8-4cad9b97eca1"
      },
      "execution_count": 5,
      "outputs": [
        {
          "output_type": "stream",
          "name": "stdout",
          "text": [
            "Enter first sorted list: 1 3\n",
            "Enter second sorted list: 2\n",
            "Median: 2\n"
          ]
        }
      ]
    },
    {
      "cell_type": "markdown",
      "source": [
        "**Maximal Rectangle in Binary Matrix**"
      ],
      "metadata": {
        "id": "8VC3NGXtcBQ5"
      }
    },
    {
      "cell_type": "code",
      "source": [
        "def maximal_rectangle(matrix):\n",
        "    if not matrix:\n",
        "        return 0\n",
        "\n",
        "    def largest_histogram_area(heights):\n",
        "        stack, max_area = [], 0\n",
        "        heights.append(0)\n",
        "        for i, h in enumerate(heights):\n",
        "            while stack and heights[stack[-1]] > h:\n",
        "                height = heights[stack.pop()]\n",
        "                width = i if not stack else i - stack[-1] - 1\n",
        "                max_area = max(max_area, height * width)\n",
        "            stack.append(i)\n",
        "        heights.pop()\n",
        "        return max_area\n",
        "\n",
        "    max_area = 0\n",
        "    ncols = len(matrix[0])\n",
        "    heights = [0] * ncols\n",
        "\n",
        "    for row in matrix:\n",
        "        for i in range(ncols):\n",
        "            heights[i] = heights[i] + 1 if row[i] == '1' else 0\n",
        "        max_area = max(max_area, largest_histogram_area(heights))\n",
        "\n",
        "    return max_area\n",
        "\n",
        "# Take input from user\n",
        "rows = int(input(\"Enter number of rows: \"))\n",
        "cols = int(input(\"Enter number of columns: \"))\n",
        "matrix = []\n",
        "print(\"Enter the binary matrix:\")\n",
        "for _ in range(rows):\n",
        "    matrix.append(list(input().strip()))\n",
        "\n",
        "print(\"Maximal Rectangle Area:\", maximal_rectangle(matrix))"
      ],
      "metadata": {
        "colab": {
          "base_uri": "https://localhost:8080/"
        },
        "id": "C9INORsTcJcF",
        "outputId": "5de239e3-a0e9-463d-ef69-4955d3b9e91a"
      },
      "execution_count": 6,
      "outputs": [
        {
          "output_type": "stream",
          "name": "stdout",
          "text": [
            "Enter number of rows: 4\n",
            "Enter number of columns: 5\n",
            "Enter the binary matrix:\n",
            "10100\n",
            "10111\n",
            "11111\n",
            "10010\n",
            "Maximal Rectangle Area: 6\n"
          ]
        }
      ]
    },
    {
      "cell_type": "markdown",
      "source": [
        "**Largest Sum Contiguous Subarray (Kadane's Algorithm)**"
      ],
      "metadata": {
        "id": "xw6TziEHcazH"
      }
    },
    {
      "cell_type": "code",
      "source": [
        "def kadane(arr):\n",
        "    max_so_far = arr[0]  # Initialize with the first element\n",
        "    max_ending_here = arr[0]\n",
        "\n",
        "    for i in range(1, len(arr)):\n",
        "        max_ending_here = max(arr[i], max_ending_here + arr[i])  # Either start a new subarray or add to the existing one\n",
        "        max_so_far = max(max_so_far, max_ending_here)  # Update the global maximum\n",
        "\n",
        "    return max_so_far\n",
        "\n",
        "# Taking input from the user:\n",
        "n = int(input(\"Enter the number of elements in the array: \"))\n",
        "arr = list(map(int, input(\"Enter the elements of the array (space-separated): \").split()))\n",
        "\n",
        "# Output the largest sum of a contiguous subarray\n",
        "print(\"The largest sum of the contiguous subarray is:\", kadane(arr))"
      ],
      "metadata": {
        "colab": {
          "base_uri": "https://localhost:8080/"
        },
        "id": "27j-_43Mc9g4",
        "outputId": "551e6f3c-feb8-418a-904f-91d5b45a8ff0"
      },
      "execution_count": 7,
      "outputs": [
        {
          "output_type": "stream",
          "name": "stdout",
          "text": [
            "Enter the number of elements in the array: 9\n",
            "Enter the elements of the array (space-separated): 1 -2 3 4 -1 2 1 -5 4\n",
            "The largest sum of the contiguous subarray is: 9\n"
          ]
        }
      ]
    },
    {
      "cell_type": "markdown",
      "source": [
        "**Word Ladder Problem**"
      ],
      "metadata": {
        "id": "F-tcwC8Ydhoo"
      }
    },
    {
      "cell_type": "code",
      "source": [
        "from collections import deque\n",
        "\n",
        "def word_ladder(start, end, word_dict):\n",
        "    # If end word is not in the dictionary, return 0\n",
        "    if end not in word_dict:\n",
        "        return 0\n",
        "\n",
        "    # Initialize BFS queue\n",
        "    queue = deque([(start, 1)])  # (current word, current depth)\n",
        "    word_dict.add(end)  # Ensure the end word is also in the dictionary\n",
        "\n",
        "    while queue:\n",
        "        current_word, depth = queue.popleft()\n",
        "\n",
        "        # Try all possible transformations (one letter at a time)\n",
        "        for i in range(len(current_word)):\n",
        "            for char in 'abcdefghijklmnopqrstuvwxyz':\n",
        "                # Replace the i-th character with the new character\n",
        "                new_word = current_word[:i] + char + current_word[i+1:]\n",
        "\n",
        "                # If the new word is the end word, return the result\n",
        "                if new_word == end:\n",
        "                    return depth + 1\n",
        "\n",
        "                # If the new word is in the dictionary, add it to the queue\n",
        "                if new_word in word_dict:\n",
        "                    queue.append((new_word, depth + 1))\n",
        "                    word_dict.remove(new_word)  # Mark the word as visited\n",
        "\n",
        "    return 0  # No transformation sequence found\n",
        "\n",
        "# Example usage:\n",
        "start = input(\"Enter the start word: \")\n",
        "end = input(\"Enter the end word: \")\n",
        "word_dict = set(input(\"Enter the dictionary words (space-separated): \").split())\n",
        "\n",
        "# Output the length of the shortest transformation sequence\n",
        "print(\"Length of the shortest transformation sequence is:\", word_ladder(start, end, word_dict))"
      ],
      "metadata": {
        "colab": {
          "base_uri": "https://localhost:8080/"
        },
        "id": "IE5RLg68diTv",
        "outputId": "6c5dd436-a8ed-447a-a555-94822a48959b"
      },
      "execution_count": 8,
      "outputs": [
        {
          "output_type": "stream",
          "name": "stdout",
          "text": [
            "Enter the start word: hit\n",
            "Enter the end word: cog\n",
            "Enter the dictionary words (space-separated): hot dot dog lot log cog\n",
            "Length of the shortest transformation sequence is: 5\n"
          ]
        }
      ]
    },
    {
      "cell_type": "markdown",
      "source": [
        "**Command-Line RPG Game**"
      ],
      "metadata": {
        "id": "rAqm0DwyeBAn"
      }
    },
    {
      "cell_type": "code",
      "source": [
        "import random\n",
        "import json\n",
        "\n",
        "# Character Class\n",
        "class Character:\n",
        "    def __init__(self, name, health, attack, defense):\n",
        "        self.name = name\n",
        "        self.health = health\n",
        "        self.attack = attack\n",
        "        self.defense = defense\n",
        "\n",
        "    def take_damage(self, damage):\n",
        "        actual_damage = max(0, damage - self.defense)\n",
        "        self.health -= actual_damage\n",
        "        print(f\"{self.name} took {actual_damage} damage! Health: {self.health}\")\n",
        "        if self.health <= 0:\n",
        "            print(f\"{self.name} has been defeated!\")\n",
        "\n",
        "# Player Class\n",
        "class Player(Character):\n",
        "    def __init__(self, name):\n",
        "        super().__init__(name, 100, 10, 5)\n",
        "        self.inventory = []\n",
        "\n",
        "    def add_item(self, item):\n",
        "        self.inventory.append(item)\n",
        "        print(f\"You obtained {item}!\")\n",
        "\n",
        "# Enemy Class\n",
        "class Enemy(Character):\n",
        "    def __init__(self, name, health, attack, defense):\n",
        "        super().__init__(name, health, attack, defense)\n",
        "\n",
        "# Combat System\n",
        "def combat(player, enemy):\n",
        "    print(f\"\\n⚔️ A wild {enemy.name} appeared!\")\n",
        "    while player.health > 0 and enemy.health > 0:\n",
        "        action = input(\"Choose action: (A)ttack, (D)efend, (H)eal: \").lower()\n",
        "        if action == \"a\":\n",
        "            damage = random.randint(player.attack - 2, player.attack + 2)\n",
        "            enemy.take_damage(damage)\n",
        "            print(f\"You attacked {enemy.name} for {damage} damage!\")\n",
        "        elif action == \"d\":\n",
        "            print(\"You defended, reducing incoming damage!\")\n",
        "        elif action == \"h\" and \"Health Potion\" in player.inventory:\n",
        "            player.health += 20\n",
        "            player.inventory.remove(\"Health Potion\")\n",
        "            print(\"You used a Health Potion! +20 HP\")\n",
        "        else:\n",
        "            print(\"Invalid choice or no healing items.\")\n",
        "\n",
        "        if enemy.health > 0:\n",
        "            enemy_damage = random.randint(enemy.attack - 2, enemy.attack + 2)\n",
        "            if action == \"d\":\n",
        "                enemy_damage //= 2  # Reduce damage when defending\n",
        "            player.take_damage(enemy_damage)\n",
        "            print(f\"{enemy.name} attacked you for {enemy_damage} damage!\")\n",
        "\n",
        "    if player.health > 0:\n",
        "        print(f\"\\n🎉 You defeated {enemy.name}!\")\n",
        "        player.add_item(\"Health Potion\")\n",
        "\n",
        "# Map & Exploration\n",
        "locations = {\n",
        "    \"town\": \"You are in a small town. There's a shop and an inn.\",\n",
        "    \"forest\": \"A dark forest surrounds you. You hear strange noises...\",\n",
        "    \"dungeon\": \"A deep dungeon filled with danger and treasure!\"\n",
        "}\n",
        "\n",
        "def explore(player):\n",
        "    print(\"\\nWhere do you want to go? (town/forest/dungeon)\")\n",
        "    choice = input(\"> \").lower()\n",
        "    if choice in locations:\n",
        "        print(locations[choice])\n",
        "        if choice == \"forest\":\n",
        "            enemy = Enemy(\"Goblin\", 30, 8, 2)\n",
        "            combat(player, enemy)\n",
        "        elif choice == \"dungeon\":\n",
        "            enemy = Enemy(\"Skeleton\", 40, 10, 3)\n",
        "            combat(player, enemy)\n",
        "    else:\n",
        "        print(\"Invalid location.\")\n",
        "\n",
        "# Save & Load Game\n",
        "def save_game(player):\n",
        "    data = {\n",
        "        \"name\": player.name,\n",
        "        \"health\": player.health,\n",
        "        \"inventory\": player.inventory\n",
        "    }\n",
        "    with open(\"savegame.json\", \"w\") as f:\n",
        "        json.dump(data, f)\n",
        "    print(\"💾 Game saved!\")\n",
        "\n",
        "def load_game():\n",
        "    try:\n",
        "        with open(\"savegame.json\", \"r\") as f:\n",
        "            data = json.load(f)\n",
        "            player = Player(data[\"name\"])\n",
        "            player.health = data[\"health\"]\n",
        "            player.inventory = data[\"inventory\"]\n",
        "            print(\"✅ Game loaded successfully!\")\n",
        "            return player\n",
        "    except FileNotFoundError:\n",
        "        print(\"⚠️ No saved game found.\")\n",
        "        return None\n",
        "\n",
        "# Game Loop\n",
        "def main():\n",
        "    print(\"\\n🎮 Welcome to the Command-Line RPG!\")\n",
        "\n",
        "    # Load game or start new\n",
        "    player = load_game()\n",
        "    if not player:\n",
        "        name = input(\"Enter your character's name: \")\n",
        "        player = Player(name)\n",
        "\n",
        "    while player.health > 0:\n",
        "        print(\"\\n🏠 (E)xplore | 🎒 (I)nventory | 💾 (S)ave | ❌ (Q)uit\")\n",
        "        choice = input(\"> \").lower()\n",
        "        if choice == \"e\":\n",
        "            explore(player)\n",
        "        elif choice == \"i\":\n",
        "            print(f\"Inventory: {player.inventory}\")\n",
        "        elif choice == \"s\":\n",
        "            save_game(player)\n",
        "        elif choice == \"q\":\n",
        "            print(\"👋 Exiting game. See you next time!\")\n",
        "            break\n",
        "        else:\n",
        "            print(\"Invalid choice.\")\n",
        "\n",
        "if __name__ == \"__main__\":\n",
        "    main()"
      ],
      "metadata": {
        "colab": {
          "base_uri": "https://localhost:8080/"
        },
        "id": "sZvEoxSseATa",
        "outputId": "0bf0a5e2-bd46-4fb4-b918-8ea2652d3fd7"
      },
      "execution_count": 4,
      "outputs": [
        {
          "output_type": "stream",
          "name": "stdout",
          "text": [
            "\n",
            "🎮 Welcome to the Command-Line RPG!\n",
            "⚠️ No saved game found.\n",
            "Enter your character's name: sowmya\n",
            "\n",
            "🏠 (E)xplore | 🎒 (I)nventory | 💾 (S)ave | ❌ (Q)uit\n",
            "> e\n",
            "\n",
            "Where do you want to go? (town/forest/dungeon)\n",
            "> town\n",
            "You are in a small town. There's a shop and an inn.\n",
            "\n",
            "🏠 (E)xplore | 🎒 (I)nventory | 💾 (S)ave | ❌ (Q)uit\n",
            "> e\n",
            "\n",
            "Where do you want to go? (town/forest/dungeon)\n",
            "> dungeon\n",
            "A deep dungeon filled with danger and treasure!\n",
            "\n",
            "⚔️ A wild Skeleton appeared!\n",
            "Choose action: (A)ttack, (D)efend, (H)eal: a\n",
            "Skeleton took 7 damage! Health: 33\n",
            "You attacked Skeleton for 10 damage!\n",
            "sowmya took 4 damage! Health: 96\n",
            "Skeleton attacked you for 9 damage!\n",
            "Choose action: (A)ttack, (D)efend, (H)eal: a\n",
            "Skeleton took 7 damage! Health: 26\n",
            "You attacked Skeleton for 10 damage!\n",
            "sowmya took 6 damage! Health: 90\n",
            "Skeleton attacked you for 11 damage!\n",
            "Choose action: (A)ttack, (D)efend, (H)eal: a\n",
            "Skeleton took 9 damage! Health: 17\n",
            "You attacked Skeleton for 12 damage!\n",
            "sowmya took 5 damage! Health: 85\n",
            "Skeleton attacked you for 10 damage!\n",
            "Choose action: (A)ttack, (D)efend, (H)eal: a\n",
            "Skeleton took 6 damage! Health: 11\n",
            "You attacked Skeleton for 9 damage!\n",
            "sowmya took 5 damage! Health: 80\n",
            "Skeleton attacked you for 10 damage!\n",
            "Choose action: (A)ttack, (D)efend, (H)eal: a\n",
            "Skeleton took 9 damage! Health: 2\n",
            "You attacked Skeleton for 12 damage!\n",
            "sowmya took 5 damage! Health: 75\n",
            "Skeleton attacked you for 10 damage!\n",
            "Choose action: (A)ttack, (D)efend, (H)eal: a\n",
            "Skeleton took 7 damage! Health: -5\n",
            "Skeleton has been defeated!\n",
            "You attacked Skeleton for 10 damage!\n",
            "\n",
            "🎉 You defeated Skeleton!\n",
            "You obtained Health Potion!\n",
            "\n",
            "🏠 (E)xplore | 🎒 (I)nventory | 💾 (S)ave | ❌ (Q)uit\n",
            "> s\n",
            "💾 Game saved!\n",
            "\n",
            "🏠 (E)xplore | 🎒 (I)nventory | 💾 (S)ave | ❌ (Q)uit\n",
            "> q\n",
            "👋 Exiting game. See you next time!\n"
          ]
        }
      ]
    }
  ]
}