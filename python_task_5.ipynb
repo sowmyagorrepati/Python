{
  "nbformat": 4,
  "nbformat_minor": 0,
  "metadata": {
    "colab": {
      "provenance": [],
      "authorship_tag": "ABX9TyMqC2Hw8zzl7ga9rK1b1PT3",
      "include_colab_link": true
    },
    "kernelspec": {
      "name": "python3",
      "display_name": "Python 3"
    },
    "language_info": {
      "name": "python"
    }
  },
  "cells": [
    {
      "cell_type": "markdown",
      "metadata": {
        "id": "view-in-github",
        "colab_type": "text"
      },
      "source": [
        "<a href=\"https://colab.research.google.com/github/sowmyagorrepati/Python/blob/main/python_task_5.ipynb\" target=\"_parent\"><img src=\"https://colab.research.google.com/assets/colab-badge.svg\" alt=\"Open In Colab\"/></a>"
      ]
    },
    {
      "cell_type": "markdown",
      "source": [
        "**Find All Permutations of a String**"
      ],
      "metadata": {
        "id": "JGCnAwWUId3j"
      }
    },
    {
      "cell_type": "code",
      "source": [
        "#Recursive Approach\n",
        "\n",
        "def permute(s, path=\"\"):\n",
        "    if not s:\n",
        "        print(path)\n",
        "    else:\n",
        "        for i in range(len(s)):\n",
        "            permute(s[:i] + s[i+1:], path + s[i])\n",
        "\n",
        "# Taking user input\n",
        "string = input(\"Enter a string: \")\n",
        "print(\"All permutations using recursion:\")\n",
        "permute(string)\n"
      ],
      "metadata": {
        "colab": {
          "base_uri": "https://localhost:8080/"
        },
        "id": "3gsLczvKIgkQ",
        "outputId": "1794a448-6d5e-4e9c-81ef-57000fb7bad7"
      },
      "execution_count": 1,
      "outputs": [
        {
          "output_type": "stream",
          "name": "stdout",
          "text": [
            "Enter a string: abc\n",
            "All permutations using recursion:\n",
            "abc\n",
            "acb\n",
            "bac\n",
            "bca\n",
            "cab\n",
            "cba\n"
          ]
        }
      ]
    },
    {
      "cell_type": "code",
      "source": [
        "#Using itertools.permutations\n",
        "\n",
        "from itertools import permutations\n",
        "\n",
        "def get_permutations(s):\n",
        "    return [''.join(p) for p in permutations(s)]\n",
        "\n",
        "# Taking user input\n",
        "string = input(\"Enter a string: \")\n",
        "print(\"All permutations using itertools:\")\n",
        "print(get_permutations(string))"
      ],
      "metadata": {
        "colab": {
          "base_uri": "https://localhost:8080/"
        },
        "id": "hHdYGG29Itdx",
        "outputId": "efaeeb1f-1dd6-4df5-e50e-66c5d289e8ef"
      },
      "execution_count": 2,
      "outputs": [
        {
          "output_type": "stream",
          "name": "stdout",
          "text": [
            "Enter a string: abc\n",
            "All permutations using itertools:\n",
            "['abc', 'acb', 'bac', 'bca', 'cab', 'cba']\n"
          ]
        }
      ]
    },
    {
      "cell_type": "markdown",
      "source": [
        "**N-th Fibonacci Number (Dynamic Programming)**"
      ],
      "metadata": {
        "id": "UpuY83KXI14C"
      }
    },
    {
      "cell_type": "code",
      "source": [
        "def fibonacci(n):\n",
        "    if n <= 0:\n",
        "        return \"Invalid input. Enter a positive integer.\"\n",
        "    elif n == 1:\n",
        "        return 0\n",
        "    elif n == 2:\n",
        "        return 1\n",
        "\n",
        "    # Create an array to store Fibonacci numbers\n",
        "    fib = [0] * (n + 1)\n",
        "    fib[1], fib[2] = 0, 1\n",
        "\n",
        "    for i in range(3, n + 1):\n",
        "        fib[i] = fib[i - 1] + fib[i - 2]\n",
        "\n",
        "    return fib[n]\n",
        "\n",
        "# Taking user input\n",
        "n = int(input(\"Enter the value of n: \"))\n",
        "print(f\"The {n}-th Fibonacci number is: {fibonacci(n)}\")"
      ],
      "metadata": {
        "colab": {
          "base_uri": "https://localhost:8080/"
        },
        "id": "8R2GoanqJLIN",
        "outputId": "8972c999-ec21-4121-c94a-41536d8dc951"
      },
      "execution_count": 3,
      "outputs": [
        {
          "output_type": "stream",
          "name": "stdout",
          "text": [
            "Enter the value of n: 4\n",
            "The 4-th Fibonacci number is: 2\n"
          ]
        }
      ]
    },
    {
      "cell_type": "markdown",
      "source": [
        "**Find Duplicates in a List**"
      ],
      "metadata": {
        "id": "z3XkTBcOJYgh"
      }
    },
    {
      "cell_type": "code",
      "source": [
        "#Using a Dictionary (dict)\n",
        "def find_duplicates(lst):\n",
        "    freq = {}\n",
        "    duplicates = []\n",
        "\n",
        "    for num in lst:\n",
        "        freq[num] = freq.get(num, 0) + 1\n",
        "\n",
        "    for num, count in freq.items():\n",
        "        if count > 1:\n",
        "            duplicates.append(num)\n",
        "\n",
        "    return duplicates\n",
        "\n",
        "# Taking user input\n",
        "lst = list(map(int, input(\"Enter numbers separated by spaces: \").split()))\n",
        "print(\"Duplicate elements:\", find_duplicates(lst))"
      ],
      "metadata": {
        "colab": {
          "base_uri": "https://localhost:8080/"
        },
        "id": "PxIlCiYwJZwf",
        "outputId": "323f8bd5-90b0-4c27-e197-33eb9a0c7128"
      },
      "execution_count": 4,
      "outputs": [
        {
          "output_type": "stream",
          "name": "stdout",
          "text": [
            "Enter numbers separated by spaces: 1 2 5 2 6 7 7 1\n",
            "Duplicate elements: [1, 2, 7]\n"
          ]
        }
      ]
    },
    {
      "cell_type": "code",
      "source": [
        "#Using collections.Counter\n",
        "from collections import Counter\n",
        "\n",
        "def find_duplicates(lst):\n",
        "    counter = Counter(lst)\n",
        "    return [num for num, count in counter.items() if count > 1]\n",
        "\n",
        "# Taking user input\n",
        "lst = list(map(int, input(\"Enter numbers separated by spaces: \").split()))\n",
        "print(\"Duplicate elements:\", find_duplicates(lst))"
      ],
      "metadata": {
        "colab": {
          "base_uri": "https://localhost:8080/"
        },
        "id": "1XOa_1BnJdDh",
        "outputId": "b15678c1-78d6-4d16-b606-c1ee558c7c95"
      },
      "execution_count": 5,
      "outputs": [
        {
          "output_type": "stream",
          "name": "stdout",
          "text": [
            "Enter numbers separated by spaces: 2 23 22 22 23 5 8 9 7\n",
            "Duplicate elements: [23, 22]\n"
          ]
        }
      ]
    },
    {
      "cell_type": "markdown",
      "source": [
        "**Longest Increasing Subsequence (LIS)**"
      ],
      "metadata": {
        "id": "ZRO4C1kmJwM_"
      }
    },
    {
      "cell_type": "code",
      "source": [
        "def longest_increasing_subsequence(arr):\n",
        "    if not arr:\n",
        "        return 0\n",
        "\n",
        "    n = len(arr)\n",
        "    dp = [1] * n  # Initialize all LIS values as 1\n",
        "\n",
        "    for i in range(1, n):\n",
        "        for j in range(i):\n",
        "            if arr[i] > arr[j]:\n",
        "                dp[i] = max(dp[i], dp[j] + 1)\n",
        "\n",
        "    return max(dp)  # The maximum value in dp array is the LIS length\n",
        "\n",
        "# Taking user input\n",
        "arr = list(map(int, input(\"Enter numbers separated by spaces: \").split()))\n",
        "print(\"Length of Longest Increasing Subsequence:\", longest_increasing_subsequence(arr))"
      ],
      "metadata": {
        "colab": {
          "base_uri": "https://localhost:8080/"
        },
        "id": "IBumuMm2J1nv",
        "outputId": "9c12acf6-d0c2-47ff-98f7-95ee28ad380a"
      },
      "execution_count": 6,
      "outputs": [
        {
          "output_type": "stream",
          "name": "stdout",
          "text": [
            "Enter numbers separated by spaces: 0 20 5 3 23 2 1\n",
            "Length of Longest Increasing Subsequence: 3\n"
          ]
        }
      ]
    },
    {
      "cell_type": "markdown",
      "source": [
        "**Find K Largest Elements**"
      ],
      "metadata": {
        "id": "T5a13wA4KTJd"
      }
    },
    {
      "cell_type": "code",
      "source": [
        "# Using Sorting (O(n log n) time)\n",
        "def k_largest_elements(arr, k):\n",
        "    if k <= 0 or k > len(arr):\n",
        "        return \"Invalid value of k\"\n",
        "    return sorted(arr, reverse=True)[:k]  # Sort in descending order and take the first k elements\n",
        "\n",
        "# Taking user input\n",
        "arr = list(map(int, input(\"Enter numbers separated by spaces: \").split()))\n",
        "k = int(input(\"Enter the value of k: \"))\n",
        "print(f\"The {k} largest elements are:\", k_largest_elements(arr, k))"
      ],
      "metadata": {
        "colab": {
          "base_uri": "https://localhost:8080/"
        },
        "id": "xKAnSGbYKYNf",
        "outputId": "58d6c35a-987c-4ca1-f487-5a1a415158fd"
      },
      "execution_count": 7,
      "outputs": [
        {
          "output_type": "stream",
          "name": "stdout",
          "text": [
            "Enter numbers separated by spaces: 2 8 1 23 22 15\n",
            "Enter the value of k: 3\n",
            "The 3 largest elements are: [23, 22, 15]\n"
          ]
        }
      ]
    },
    {
      "cell_type": "code",
      "source": [
        "#Using a Min-Heap (O(n log k) time)\n",
        "import heapq\n",
        "\n",
        "def k_largest_elements(arr, k):\n",
        "    if k <= 0 or k > len(arr):\n",
        "        return \"Invalid value of k\"\n",
        "    return heapq.nlargest(k, arr)  # Use heapq's built-in function for efficiency\n",
        "\n",
        "# Taking user input\n",
        "arr = list(map(int, input(\"Enter numbers separated by spaces: \").split()))\n",
        "k = int(input(\"Enter the value of k: \"))\n",
        "print(f\"The {k} largest elements are:\", k_largest_elements(arr, k))"
      ],
      "metadata": {
        "colab": {
          "base_uri": "https://localhost:8080/"
        },
        "id": "Cs0V-h5-KlRv",
        "outputId": "1cfe895a-d2f1-4df0-8864-5b9d8f093af7"
      },
      "execution_count": 8,
      "outputs": [
        {
          "output_type": "stream",
          "name": "stdout",
          "text": [
            "Enter numbers separated by spaces: 52 30 90 1 2 6\n",
            "Enter the value of k: 4\n",
            "The 4 largest elements are: [90, 52, 30, 6]\n"
          ]
        }
      ]
    },
    {
      "cell_type": "markdown",
      "source": [
        "**Rotate Matrix**"
      ],
      "metadata": {
        "id": "tcfZcOgaK4Ah"
      }
    },
    {
      "cell_type": "code",
      "source": [
        "def rotate_matrix(matrix):\n",
        "    # Transpose the matrix (convert rows to columns)\n",
        "    n = len(matrix)\n",
        "    for i in range(n):\n",
        "        for j in range(i, n):\n",
        "            matrix[i][j], matrix[j][i] = matrix[j][i], matrix[i][j]\n",
        "\n",
        "    # Reverse each row\n",
        "    for row in matrix:\n",
        "        row.reverse()\n",
        "\n",
        "# Taking user input\n",
        "n = int(input(\"Enter the size of the square matrix (n x n): \"))\n",
        "matrix = [list(map(int, input(f\"Enter row {i+1} values separated by spaces: \").split())) for i in range(n)]\n",
        "\n",
        "print(\"Original Matrix:\")\n",
        "for row in matrix:\n",
        "    print(row)\n",
        "\n",
        "rotate_matrix(matrix)\n",
        "\n",
        "print(\"Rotated Matrix:\")\n",
        "for row in matrix:\n",
        "    print(row)"
      ],
      "metadata": {
        "colab": {
          "base_uri": "https://localhost:8080/"
        },
        "id": "TSFNOxCnK-m4",
        "outputId": "c53043d7-d65e-4383-9ab8-d815a33a9761"
      },
      "execution_count": 9,
      "outputs": [
        {
          "output_type": "stream",
          "name": "stdout",
          "text": [
            "Enter the size of the square matrix (n x n): 3\n",
            "Enter row 1 values separated by spaces: 1 2 3\n",
            "Enter row 2 values separated by spaces: 4 5 6\n",
            "Enter row 3 values separated by spaces: 7 8 9\n",
            "Original Matrix:\n",
            "[1, 2, 3]\n",
            "[4, 5, 6]\n",
            "[7, 8, 9]\n",
            "Rotated Matrix:\n",
            "[7, 4, 1]\n",
            "[8, 5, 2]\n",
            "[9, 6, 3]\n"
          ]
        }
      ]
    },
    {
      "cell_type": "markdown",
      "source": [
        "**Sudoku Validator**"
      ],
      "metadata": {
        "id": "ADzFngOwLSLW"
      }
    },
    {
      "cell_type": "code",
      "source": [
        "def is_valid_sudoku(board):\n",
        "    def is_valid_group(group):\n",
        "        \"\"\"Helper function to check if a row, column, or 3x3 grid has duplicates.\"\"\"\n",
        "        nums = [num for num in group if num != \".\"]\n",
        "        return len(nums) == len(set(nums))  # Check for duplicates\n",
        "\n",
        "    # Check rows and columns\n",
        "    for i in range(9):\n",
        "        if not is_valid_group(board[i]) or not is_valid_group([board[j][i] for j in range(9)]):\n",
        "            return False\n",
        "\n",
        "    # Check 3x3 subgrids\n",
        "    for i in range(0, 9, 3):\n",
        "        for j in range(0, 9, 3):\n",
        "            subgrid = [board[x][y] for x in range(i, i+3) for y in range(j, j+3)]\n",
        "            if not is_valid_group(subgrid):\n",
        "                return False\n",
        "\n",
        "    return True\n",
        "\n",
        "# Taking user input\n",
        "print(\"Enter the Sudoku board row by row (use '.' for empty cells):\")\n",
        "sudoku_board = [list(input().strip()) for _ in range(9)]\n",
        "\n",
        "if is_valid_sudoku(sudoku_board):\n",
        "    print(\"Valid Sudoku!\")\n",
        "else:\n",
        "    print(\"Invalid Sudoku!\")"
      ],
      "metadata": {
        "colab": {
          "base_uri": "https://localhost:8080/"
        },
        "id": "KfUz1CcZLXcm",
        "outputId": "d508830c-f346-4148-da2d-45d458c2a3c6"
      },
      "execution_count": 11,
      "outputs": [
        {
          "output_type": "stream",
          "name": "stdout",
          "text": [
            "Enter the Sudoku board row by row (use '.' for empty cells):\n",
            "53..7.... \n",
            "6..195...\n",
            ".98....6. \n",
            "8...6...3  \n",
            "4..8.3..1  \n",
            "7...2...6 \n",
            ".6....28. \n",
            "...419..5\n",
            "....8..79 \n",
            "Valid Sudoku!\n"
          ]
        }
      ]
    },
    {
      "cell_type": "markdown",
      "source": [
        "**Virtual Stock Market Simulator**"
      ],
      "metadata": {
        "id": "bqCIBDnFLxL-"
      }
    },
    {
      "cell_type": "code",
      "source": [
        "import random\n",
        "\n",
        "class StockMarketSimulator:\n",
        "    def __init__(self):\n",
        "        self.stocks = {\"AAPL\": 150, \"GOOGL\": 2800, \"TSLA\": 700, \"AMZN\": 3400}\n",
        "        self.portfolio = {\"cash\": 10000, \"stocks\": {symbol: 0 for symbol in self.stocks}}\n",
        "        self.transaction_history = []\n",
        "\n",
        "    def update_stock_prices(self):\n",
        "        \"\"\"Simulate stock price fluctuations.\"\"\"\n",
        "        for stock in self.stocks:\n",
        "            change = random.uniform(-5, 5)  # Prices change randomly between -5% and +5%\n",
        "            self.stocks[stock] = round(self.stocks[stock] * (1 + change / 100), 2)\n",
        "\n",
        "    def buy_stock(self, symbol, quantity):\n",
        "        \"\"\"Allow users to buy stocks if they have enough cash.\"\"\"\n",
        "        if symbol not in self.stocks:\n",
        "            print(\"Invalid stock symbol!\")\n",
        "            return\n",
        "        total_cost = self.stocks[symbol] * quantity\n",
        "        if self.portfolio[\"cash\"] >= total_cost:\n",
        "            self.portfolio[\"cash\"] -= total_cost\n",
        "            self.portfolio[\"stocks\"][symbol] += quantity\n",
        "            self.transaction_history.append(f\"Bought {quantity} of {symbol} at ${self.stocks[symbol]}\")\n",
        "            print(f\"✅ Purchased {quantity} shares of {symbol} at ${self.stocks[symbol]} each.\")\n",
        "        else:\n",
        "            print(\"❌ Not enough cash!\")\n",
        "\n",
        "    def sell_stock(self, symbol, quantity):\n",
        "        \"\"\"Allow users to sell stocks they own.\"\"\"\n",
        "        if self.portfolio[\"stocks\"].get(symbol, 0) >= quantity:\n",
        "            self.portfolio[\"stocks\"][symbol] -= quantity\n",
        "            earnings = self.stocks[symbol] * quantity\n",
        "            self.portfolio[\"cash\"] += earnings\n",
        "            self.transaction_history.append(f\"Sold {quantity} of {symbol} at ${self.stocks[symbol]}\")\n",
        "            print(f\"✅ Sold {quantity} shares of {symbol} at ${self.stocks[symbol]} each.\")\n",
        "        else:\n",
        "            print(\"❌ Not enough shares to sell!\")\n",
        "\n",
        "    def display_market(self):\n",
        "        \"\"\"Show current stock prices.\"\"\"\n",
        "        print(\"\\n📈 Stock Market Prices:\")\n",
        "        for stock, price in self.stocks.items():\n",
        "            print(f\"{stock}: ${price:.2f}\")\n",
        "        print(f\"💰 Cash Balance: ${self.portfolio['cash']:.2f}\")\n",
        "\n",
        "    def display_portfolio(self):\n",
        "        \"\"\"Show user's portfolio.\"\"\"\n",
        "        print(\"\\n📊 Your Portfolio:\")\n",
        "        for stock, quantity in self.portfolio[\"stocks\"].items():\n",
        "            if quantity > 0:\n",
        "                print(f\"{stock}: {quantity} shares\")\n",
        "        print(f\"💰 Cash: ${self.portfolio['cash']:.2f}\")\n",
        "\n",
        "# Main simulation loop\n",
        "simulator = StockMarketSimulator()\n",
        "\n",
        "while True:\n",
        "    simulator.update_stock_prices()\n",
        "    simulator.display_market()\n",
        "\n",
        "    print(\"\\nOptions: 1) Buy Stock  2) Sell Stock  3) View Portfolio  4) Exit\")\n",
        "    choice = input(\"Enter choice: \")\n",
        "\n",
        "    if choice == \"1\":\n",
        "        stock = input(\"Enter stock symbol: \").upper()\n",
        "        quantity = int(input(\"Enter quantity to buy: \"))\n",
        "        simulator.buy_stock(stock, quantity)\n",
        "    elif choice == \"2\":\n",
        "        stock = input(\"Enter stock symbol: \").upper()\n",
        "        quantity = int(input(\"Enter quantity to sell: \"))\n",
        "        simulator.sell_stock(stock, quantity)\n",
        "    elif choice == \"3\":\n",
        "        simulator.display_portfolio()\n",
        "    elif choice == \"4\":\n",
        "        print(\"🚀 Exiting simulation. Thanks for playing!\")\n",
        "        break\n",
        "    else:\n",
        "        print(\"❌ Invalid choice! Try again.\")\n"
      ],
      "metadata": {
        "colab": {
          "base_uri": "https://localhost:8080/"
        },
        "id": "K82t622oL5bk",
        "outputId": "106c74af-32b2-45a2-af32-6e69967e4ba4"
      },
      "execution_count": 12,
      "outputs": [
        {
          "output_type": "stream",
          "name": "stdout",
          "text": [
            "\n",
            "📈 Stock Market Prices:\n",
            "AAPL: $154.23\n",
            "GOOGL: $2908.61\n",
            "TSLA: $712.10\n",
            "AMZN: $3396.83\n",
            "💰 Cash Balance: $10000.00\n",
            "\n",
            "Options: 1) Buy Stock  2) Sell Stock  3) View Portfolio  4) Exit\n",
            "Enter choice: 1\n",
            "Enter stock symbol: AAPL\n",
            "Enter quantity to buy: 5\n",
            "✅ Purchased 5 shares of AAPL at $154.23 each.\n",
            "\n",
            "📈 Stock Market Prices:\n",
            "AAPL: $160.29\n",
            "GOOGL: $2988.12\n",
            "TSLA: $700.04\n",
            "AMZN: $3247.14\n",
            "💰 Cash Balance: $9228.85\n",
            "\n",
            "Options: 1) Buy Stock  2) Sell Stock  3) View Portfolio  4) Exit\n",
            "Enter choice: 2\n",
            "Enter stock symbol: TSLA\n",
            "Enter quantity to sell: 2\n",
            "❌ Not enough shares to sell!\n",
            "\n",
            "📈 Stock Market Prices:\n",
            "AAPL: $158.90\n",
            "GOOGL: $3087.81\n",
            "TSLA: $729.78\n",
            "AMZN: $3401.93\n",
            "💰 Cash Balance: $9228.85\n",
            "\n",
            "Options: 1) Buy Stock  2) Sell Stock  3) View Portfolio  4) Exit\n",
            "Enter choice: 3\n",
            "\n",
            "📊 Your Portfolio:\n",
            "AAPL: 5 shares\n",
            "💰 Cash: $9228.85\n",
            "\n",
            "📈 Stock Market Prices:\n",
            "AAPL: $154.19\n",
            "GOOGL: $3103.59\n",
            "TSLA: $719.14\n",
            "AMZN: $3267.77\n",
            "💰 Cash Balance: $9228.85\n",
            "\n",
            "Options: 1) Buy Stock  2) Sell Stock  3) View Portfolio  4) Exit\n",
            "Enter choice: 1\n",
            "Enter stock symbol: GOOGL\n",
            "Enter quantity to buy: 2\n",
            "✅ Purchased 2 shares of GOOGL at $3103.59 each.\n",
            "\n",
            "📈 Stock Market Prices:\n",
            "AAPL: $154.50\n",
            "GOOGL: $3011.55\n",
            "TSLA: $683.70\n",
            "AMZN: $3331.74\n",
            "💰 Cash Balance: $3021.67\n",
            "\n",
            "Options: 1) Buy Stock  2) Sell Stock  3) View Portfolio  4) Exit\n",
            "Enter choice: 2\n",
            "Enter stock symbol: AAPL\n",
            "Enter quantity to sell: 1\n",
            "✅ Sold 1 shares of AAPL at $154.5 each.\n",
            "\n",
            "📈 Stock Market Prices:\n",
            "AAPL: $155.22\n",
            "GOOGL: $3108.83\n",
            "TSLA: $710.49\n",
            "AMZN: $3201.52\n",
            "💰 Cash Balance: $3176.17\n",
            "\n",
            "Options: 1) Buy Stock  2) Sell Stock  3) View Portfolio  4) Exit\n",
            "Enter choice: 4\n",
            "🚀 Exiting simulation. Thanks for playing!\n"
          ]
        }
      ]
    }
  ]
}