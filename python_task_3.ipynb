{
  "nbformat": 4,
  "nbformat_minor": 0,
  "metadata": {
    "colab": {
      "provenance": [],
      "authorship_tag": "ABX9TyM+1uAoddIVr+lSaKPvAJCj",
      "include_colab_link": true
    },
    "kernelspec": {
      "name": "python3",
      "display_name": "Python 3"
    },
    "language_info": {
      "name": "python"
    }
  },
  "cells": [
    {
      "cell_type": "markdown",
      "metadata": {
        "id": "view-in-github",
        "colab_type": "text"
      },
      "source": [
        "<a href=\"https://colab.research.google.com/github/sowmyagorrepati/Python/blob/main/python_task_3.ipynb\" target=\"_parent\"><img src=\"https://colab.research.google.com/assets/colab-badge.svg\" alt=\"Open In Colab\"/></a>"
      ]
    },
    {
      "cell_type": "markdown",
      "source": [
        "**Table of a Number**"
      ],
      "metadata": {
        "id": "nmWLW5_z7TIN"
      }
    },
    {
      "cell_type": "code",
      "source": [
        "def print_table(n):\n",
        "    for i in range(1, 11):\n",
        "        print(f\"{n} x {i} = {n * i}\")\n",
        "\n",
        "number = int(input(\"Enter a number: \"))\n",
        "print_table(number)\n"
      ],
      "metadata": {
        "colab": {
          "base_uri": "https://localhost:8080/"
        },
        "id": "8PYBnfRq7ZsT",
        "outputId": "bd4192d6-0ab5-49e8-e1d3-f389b1cb1e1b"
      },
      "execution_count": 6,
      "outputs": [
        {
          "output_type": "stream",
          "name": "stdout",
          "text": [
            "Enter a number: 10\n",
            "10 x 1 = 10\n",
            "10 x 2 = 20\n",
            "10 x 3 = 30\n",
            "10 x 4 = 40\n",
            "10 x 5 = 50\n",
            "10 x 6 = 60\n",
            "10 x 7 = 70\n",
            "10 x 8 = 80\n",
            "10 x 9 = 90\n",
            "10 x 10 = 100\n"
          ]
        }
      ]
    },
    {
      "cell_type": "markdown",
      "source": [
        "**Swap Two Numbers**"
      ],
      "metadata": {
        "id": "2SBoSX2r741z"
      }
    },
    {
      "cell_type": "code",
      "source": [
        "a = int(input(\"Enter first number (a): \"))\n",
        "b = int(input(\"Enter second number (b): \"))\n",
        "\n",
        "# Swap using addition and subtraction\n",
        "a = a + b\n",
        "b = a - b\n",
        "a = a - b\n",
        "\n",
        "print(f\"Swapped values: a = {a}, b = {b}\")\n"
      ],
      "metadata": {
        "colab": {
          "base_uri": "https://localhost:8080/"
        },
        "id": "dB2nyacw74f8",
        "outputId": "4e019608-f2bb-42e0-b6dd-bdf5881128e0"
      },
      "execution_count": 7,
      "outputs": [
        {
          "output_type": "stream",
          "name": "stdout",
          "text": [
            "Enter first number (a): 23\n",
            "Enter second number (b): 22\n",
            "Swapped values: a = 22, b = 23\n"
          ]
        }
      ]
    },
    {
      "cell_type": "code",
      "source": [
        "a = int(input(\"Enter first number (a): \"))\n",
        "b = int(input(\"Enter second number (b): \"))\n",
        "\n",
        "# Swap using XOR\n",
        "a = a ^ b\n",
        "b = a ^ b\n",
        "a = a ^ b\n",
        "\n",
        "print(f\"Swapped values: a = {a}, b = {b}\")\n"
      ],
      "metadata": {
        "colab": {
          "base_uri": "https://localhost:8080/"
        },
        "id": "XnZdar-88OHb",
        "outputId": "fcdf58ad-febf-4940-e453-8dfb4689cc03"
      },
      "execution_count": 8,
      "outputs": [
        {
          "output_type": "stream",
          "name": "stdout",
          "text": [
            "Enter first number (a): 25\n",
            "Enter second number (b): 8\n",
            "Swapped values: a = 8, b = 25\n"
          ]
        }
      ]
    },
    {
      "cell_type": "markdown",
      "source": [
        "**Check Substring**"
      ],
      "metadata": {
        "id": "4FogzWCP8Vcm"
      }
    },
    {
      "cell_type": "code",
      "source": [
        "s1 = input(\"Enter the main string (s1): \")\n",
        "s2 = input(\"Enter the substring (s2): \")\n",
        "\n",
        "if s2 in s1:\n",
        "    print(\"True\")\n",
        "else:\n",
        "    print(\"False\")"
      ],
      "metadata": {
        "colab": {
          "base_uri": "https://localhost:8080/"
        },
        "id": "1JZOLFur8fSA",
        "outputId": "4061bc90-c2c9-4bd7-98dd-7264de626714"
      },
      "execution_count": 10,
      "outputs": [
        {
          "output_type": "stream",
          "name": "stdout",
          "text": [
            "Enter the main string (s1): hello I am chinnu\n",
            "Enter the substring (s2): chinnu\n",
            "True\n"
          ]
        }
      ]
    },
    {
      "cell_type": "markdown",
      "source": [
        "**Decimal to Binary**"
      ],
      "metadata": {
        "id": "8E8ekEjw8pH8"
      }
    },
    {
      "cell_type": "code",
      "source": [
        "#using bin()\n",
        "n = int(input(\"Enter a decimal number: \"))\n",
        "binary_representation = bin(n)[2:]  # Remove the '0b' prefix\n",
        "print(f\"Binary representation: {binary_representation}\")"
      ],
      "metadata": {
        "colab": {
          "base_uri": "https://localhost:8080/"
        },
        "id": "skaXRqPG8wJR",
        "outputId": "ae8b3949-da48-4471-da84-e4553e542f75"
      },
      "execution_count": 14,
      "outputs": [
        {
          "output_type": "stream",
          "name": "stdout",
          "text": [
            "Enter a decimal number: 2\n",
            "Binary representation: 10\n"
          ]
        }
      ]
    },
    {
      "cell_type": "code",
      "source": [
        "#Using Repeated Division by 2 (Manual Method)\n",
        "n = int(input(\"Enter a decimal number: \"))\n",
        "binary_representation = \"\"\n",
        "\n",
        "while n > 0:\n",
        "    binary_representation = str(n % 2) + binary_representation\n",
        "    n = n // 2\n",
        "\n",
        "# If the number is 0, handle it separately\n",
        "if binary_representation == \"\":\n",
        "    binary_representation = \"0\"\n",
        "\n",
        "print(f\"Binary representation: {binary_representation}\")"
      ],
      "metadata": {
        "colab": {
          "base_uri": "https://localhost:8080/"
        },
        "id": "nkzc3g9f84M5",
        "outputId": "793e09b1-7b5e-4ef6-e1b2-7476e85b5f8d"
      },
      "execution_count": 15,
      "outputs": [
        {
          "output_type": "stream",
          "name": "stdout",
          "text": [
            "Enter a decimal number: 2\n",
            "Binary representation: 10\n"
          ]
        }
      ]
    },
    {
      "cell_type": "markdown",
      "source": [
        "**Matrix Addition**"
      ],
      "metadata": {
        "id": "QEGcXTAP9Ihp"
      }
    },
    {
      "cell_type": "code",
      "source": [
        "rows = int(input(\"Enter number of rows: \"))\n",
        "cols = int(input(\"Enter number of columns: \"))\n",
        "\n",
        "matrix1 = []\n",
        "matrix2 = []\n",
        "\n",
        "print(\"Enter elements of first matrix:\")\n",
        "for i in range(rows):\n",
        "    row = list(map(int, input().split()))\n",
        "    matrix1.append(row)\n",
        "\n",
        "print(\"Enter elements of second matrix:\")\n",
        "for i in range(rows):\n",
        "    row = list(map(int, input().split()))\n",
        "    matrix2.append(row)\n",
        "\n",
        "result = []\n",
        "\n",
        "for i in range(rows):\n",
        "    row = []\n",
        "    for j in range(cols):\n",
        "        row.append(matrix1[i][j] + matrix2[i][j])\n",
        "    result.append(row)\n",
        "\n",
        "print(\"Sum of the matrices:\")\n",
        "for row in result:\n",
        "    print(row)\n"
      ],
      "metadata": {
        "colab": {
          "base_uri": "https://localhost:8080/"
        },
        "id": "ncwCcT_79OuH",
        "outputId": "8d82bd58-283f-4b68-c5ec-723505388703"
      },
      "execution_count": 18,
      "outputs": [
        {
          "output_type": "stream",
          "name": "stdout",
          "text": [
            "Enter number of rows: 2 \n",
            "Enter number of columns: 2\n",
            "Enter elements of first matrix:\n",
            "1 2\n",
            "3 1\n",
            "Enter elements of second matrix:\n",
            "1 1\n",
            "2 3\n",
            "Sum of the matrices:\n",
            "[2, 3]\n",
            "[5, 4]\n"
          ]
        }
      ]
    },
    {
      "cell_type": "markdown",
      "source": [
        "**Matrix Multiplication**"
      ],
      "metadata": {
        "id": "kQ6Wp0tB94q-"
      }
    },
    {
      "cell_type": "code",
      "source": [
        "rows_A = int(input(\"Enter number of rows for matrix A: \"))\n",
        "cols_A = int(input(\"Enter number of columns for matrix A: \"))\n",
        "cols_B = int(input(\"Enter number of columns for matrix B: \"))\n",
        "\n",
        "matrix_A = []\n",
        "matrix_B = []\n",
        "\n",
        "print(\"Enter elements of matrix A:\")\n",
        "for i in range(rows_A):\n",
        "    row = list(map(int, input().split()))\n",
        "    matrix_A.append(row)\n",
        "\n",
        "print(\"Enter elements of matrix B:\")\n",
        "for i in range(cols_A):\n",
        "    row = list(map(int, input().split()))\n",
        "    matrix_B.append(row)\n",
        "\n",
        "result = [[0 for _ in range(cols_B)] for _ in range(rows_A)]\n",
        "\n",
        "for i in range(rows_A):\n",
        "    for j in range(cols_B):\n",
        "        for k in range(cols_A):\n",
        "            result[i][j] += matrix_A[i][k] * matrix_B[k][j]\n",
        "\n",
        "print(\"Product of the matrices:\")\n",
        "for row in result:\n",
        "    print(row)\n"
      ],
      "metadata": {
        "colab": {
          "base_uri": "https://localhost:8080/"
        },
        "id": "nXhQHZ-594Yg",
        "outputId": "0323e923-15b1-494c-e2df-7e0f713e551d"
      },
      "execution_count": 20,
      "outputs": [
        {
          "output_type": "stream",
          "name": "stdout",
          "text": [
            "Enter number of rows for matrix A: 2\n",
            "Enter number of columns for matrix A: 2\n",
            "Enter number of columns for matrix B: 2\n",
            "Enter elements of matrix A:\n",
            "1 2\n",
            "1 2\n",
            "Enter elements of matrix B:\n",
            "2 3\n",
            "1 1\n",
            "Product of the matrices:\n",
            "[4, 5]\n",
            "[4, 5]\n"
          ]
        }
      ]
    },
    {
      "cell_type": "markdown",
      "source": [
        "**Find Second Largest**"
      ],
      "metadata": {
        "id": "2TeMQTNK-k87"
      }
    },
    {
      "cell_type": "code",
      "source": [
        "numbers = list(map(int, input(\"Enter a list of integers: \").split()))\n",
        "\n",
        "numbers.sort(reverse=True)\n",
        "\n",
        "print(f\"The second largest number is: {numbers[1]}\")"
      ],
      "metadata": {
        "colab": {
          "base_uri": "https://localhost:8080/"
        },
        "id": "r2_eBiwT-mvg",
        "outputId": "34721b25-0962-4eb7-cb61-d40850a8e0e5"
      },
      "execution_count": 21,
      "outputs": [
        {
          "output_type": "stream",
          "name": "stdout",
          "text": [
            "Enter a list of integers: 23 8 22 15 25 1 3\n",
            "The second largest number is: 23\n"
          ]
        }
      ]
    },
    {
      "cell_type": "markdown",
      "source": [
        "**Check Anagram**"
      ],
      "metadata": {
        "id": "dreXCW7C-0TE"
      }
    },
    {
      "cell_type": "code",
      "source": [
        "# Input strings\n",
        "str1 = input(\"Enter the first string: \")\n",
        "str2 = input(\"Enter the second string: \")\n",
        "\n",
        "# Check if sorted strings are equal\n",
        "if sorted(str1) == sorted(str2):\n",
        "    print(\"True - The strings are anagrams.\")\n",
        "else:\n",
        "    print(\"False - The strings are not anagrams.\")"
      ],
      "metadata": {
        "colab": {
          "base_uri": "https://localhost:8080/"
        },
        "id": "G4ogneCp-49E",
        "outputId": "ed60cc1e-97cb-4851-f423-88fae7d12638"
      },
      "execution_count": 22,
      "outputs": [
        {
          "output_type": "stream",
          "name": "stdout",
          "text": [
            "Enter the first string: listen\n",
            "Enter the second string: silent\n",
            "True - The strings are anagrams.\n"
          ]
        }
      ]
    },
    {
      "cell_type": "markdown",
      "source": [
        "**AI-Based Tic-Tac-Toe**"
      ],
      "metadata": {
        "id": "X_xk6jj6_ElP"
      }
    },
    {
      "cell_type": "code",
      "source": [
        "import random\n",
        "\n",
        "# Define the board\n",
        "board = [' ' for _ in range(9)]  # 3x3 board, 9 spaces\n",
        "\n",
        "# Check if a player has won\n",
        "def check_winner(board, player):\n",
        "    win_conditions = [\n",
        "        [0, 1, 2], [3, 4, 5], [6, 7, 8],  # Horizontal\n",
        "        [0, 3, 6], [1, 4, 7], [2, 5, 8],  # Vertical\n",
        "        [0, 4, 8], [2, 4, 6]  # Diagonal\n",
        "    ]\n",
        "\n",
        "    for condition in win_conditions:\n",
        "        if board[condition[0]] == board[condition[1]] == board[condition[2]] == player:\n",
        "            return True\n",
        "    return False\n",
        "\n",
        "# Check for a draw\n",
        "def check_draw(board):\n",
        "    return ' ' not in board\n",
        "\n",
        "# Minimax algorithm\n",
        "def minimax(board, depth, is_maximizing):\n",
        "    if check_winner(board, 'O'):  # AI wins\n",
        "        return 1\n",
        "    elif check_winner(board, 'X'):  # User wins\n",
        "        return -1\n",
        "    elif check_draw(board):  # Draw\n",
        "        return 0\n",
        "\n",
        "    if is_maximizing:\n",
        "        best_score = -float('inf')\n",
        "        for i in range(9):\n",
        "            if board[i] == ' ':\n",
        "                board[i] = 'O'  # AI move\n",
        "                score = minimax(board, depth + 1, False)\n",
        "                board[i] = ' '  # Undo move\n",
        "                best_score = max(score, best_score)\n",
        "        return best_score\n",
        "    else:\n",
        "        best_score = float('inf')\n",
        "        for i in range(9):\n",
        "            if board[i] == ' ':\n",
        "                board[i] = 'X'  # User move\n",
        "                score = minimax(board, depth + 1, True)\n",
        "                board[i] = ' '  # Undo move\n",
        "                best_score = min(score, best_score)\n",
        "        return best_score\n",
        "\n",
        "# AI Move\n",
        "def ai_move(board):\n",
        "    best_score = -float('inf')\n",
        "    best_move = None\n",
        "    for i in range(9):\n",
        "        if board[i] == ' ':\n",
        "            board[i] = 'O'  # AI move\n",
        "            score = minimax(board, 0, False)\n",
        "            board[i] = ' '  # Undo move\n",
        "            if score > best_score:\n",
        "                best_score = score\n",
        "                best_move = i\n",
        "    board[best_move] = 'O'  # AI makes the best move\n",
        "\n",
        "# Display the board\n",
        "def display_board(board):\n",
        "    print(f\"{board[0]} | {board[1]} | {board[2]}\")\n",
        "    print(\"--+---+--\")\n",
        "    print(f\"{board[3]} | {board[4]} | {board[5]}\")\n",
        "    print(\"--+---+--\")\n",
        "    print(f\"{board[6]} | {board[7]} | {board[8]}\")\n",
        "\n",
        "# User Move\n",
        "def user_move(board):\n",
        "    while True:\n",
        "        try:\n",
        "            move = int(input(\"Enter your move (1-9): \")) - 1\n",
        "            if board[move] == ' ':\n",
        "                board[move] = 'X'\n",
        "                break\n",
        "            else:\n",
        "                print(\"This spot is taken. Try again.\")\n",
        "        except (ValueError, IndexError):\n",
        "            print(\"Invalid move. Please enter a number between 1 and 9.\")\n",
        "\n",
        "# Main Game Loop\n",
        "def main():\n",
        "    while True:\n",
        "        display_board(board)\n",
        "\n",
        "        # User's turn\n",
        "        user_move(board)\n",
        "        if check_winner(board, 'X'):\n",
        "            display_board(board)\n",
        "            print(\"You win!\")\n",
        "            break\n",
        "        elif check_draw(board):\n",
        "            display_board(board)\n",
        "            print(\"It's a draw!\")\n",
        "            break\n",
        "\n",
        "        # AI's turn\n",
        "        ai_move(board)\n",
        "        if check_winner(board, 'O'):\n",
        "            display_board(board)\n",
        "            print(\"AI wins!\")\n",
        "            break\n",
        "        elif check_draw(board):\n",
        "            display_board(board)\n",
        "            print(\"It's a draw!\")\n",
        "            break\n",
        "\n",
        "# Start the game\n",
        "if __name__ == \"__main__\":\n",
        "    main()\n"
      ],
      "metadata": {
        "colab": {
          "base_uri": "https://localhost:8080/"
        },
        "id": "Q5s8L_Gt_Hko",
        "outputId": "61a6b7f2-f405-4464-807b-52ad2a07a576"
      },
      "execution_count": 23,
      "outputs": [
        {
          "output_type": "stream",
          "name": "stdout",
          "text": [
            "  |   |  \n",
            "--+---+--\n",
            "  |   |  \n",
            "--+---+--\n",
            "  |   |  \n",
            "Enter your move (1-9): 2\n",
            "O | X |  \n",
            "--+---+--\n",
            "  |   |  \n",
            "--+---+--\n",
            "  |   |  \n",
            "Enter your move (1-9): 5\n",
            "O | X |  \n",
            "--+---+--\n",
            "  | X |  \n",
            "--+---+--\n",
            "  | O |  \n",
            "Enter your move (1-9): 7\n",
            "O | X | O\n",
            "--+---+--\n",
            "  | X |  \n",
            "--+---+--\n",
            "X | O |  \n",
            "Enter your move (1-9): 4\n",
            "O | X | O\n",
            "--+---+--\n",
            "X | X | O\n",
            "--+---+--\n",
            "X | O |  \n",
            "Enter your move (1-9): 9\n",
            "O | X | O\n",
            "--+---+--\n",
            "X | X | O\n",
            "--+---+--\n",
            "X | O | X\n",
            "It's a draw!\n"
          ]
        }
      ]
    }
  ]
}