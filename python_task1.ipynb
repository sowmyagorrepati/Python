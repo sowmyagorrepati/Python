{
  "nbformat": 4,
  "nbformat_minor": 0,
  "metadata": {
    "colab": {
      "provenance": [],
      "authorship_tag": "ABX9TyMx3m5UYoPen/adCy0ySW8D",
      "include_colab_link": true
    },
    "kernelspec": {
      "name": "python3",
      "display_name": "Python 3"
    },
    "language_info": {
      "name": "python"
    }
  },
  "cells": [
    {
      "cell_type": "markdown",
      "metadata": {
        "id": "view-in-github",
        "colab_type": "text"
      },
      "source": [
        "<a href=\"https://colab.research.google.com/github/sowmyagorrepati/Python/blob/main/python_task1.ipynb\" target=\"_parent\"><img src=\"https://colab.research.google.com/assets/colab-badge.svg\" alt=\"Open In Colab\"/></a>"
      ]
    },
    {
      "cell_type": "markdown",
      "source": [
        "**The Sum Of Two Numbers**"
      ],
      "metadata": {
        "id": "4rVyWGmNHFrQ"
      }
    },
    {
      "cell_type": "code",
      "source": [
        "a=int(input(\"Enter the first number:\"))\n",
        "b=int(input(\"Enter the second number:\"))\n",
        "print(\"Sum =\",a+b)"
      ],
      "metadata": {
        "colab": {
          "base_uri": "https://localhost:8080/"
        },
        "id": "CLdHv8myG9oC",
        "outputId": "3cfce615-1bc7-4b57-fe93-51b210311098"
      },
      "execution_count": null,
      "outputs": [
        {
          "output_type": "stream",
          "name": "stdout",
          "text": [
            "Enter the first number:25\n",
            "Enter the second number:10\n",
            "Sum = 35\n"
          ]
        }
      ]
    },
    {
      "cell_type": "markdown",
      "source": [
        "**Odd or Even**"
      ],
      "metadata": {
        "id": "b94eTCspHsCQ"
      }
    },
    {
      "cell_type": "code",
      "source": [
        "n=int(input(\"Enter a Number:\"))\n",
        "if n%2==0:\n",
        "  print(\"Even\")\n",
        "else:\n",
        "  print(\"Odd\")\n"
      ],
      "metadata": {
        "colab": {
          "base_uri": "https://localhost:8080/"
        },
        "id": "h0W_QB12HOVl",
        "outputId": "2946c8d4-d0d6-40e2-b8f2-a50e5b732dd6"
      },
      "execution_count": null,
      "outputs": [
        {
          "output_type": "stream",
          "name": "stdout",
          "text": [
            "Enter a Number:23\n",
            "Odd\n"
          ]
        }
      ]
    },
    {
      "cell_type": "markdown",
      "source": [
        "**Factorial Calculation**"
      ],
      "metadata": {
        "id": "c9unsztvPSI2"
      }
    },
    {
      "cell_type": "code",
      "source": [
        "def fact(n):\n",
        "  if n==0 or n==1:\n",
        "    return 1\n",
        "  else:\n",
        "    return n*fact(n-1)\n",
        "a=int(input(\"Enter a Number:\"))\n",
        "res=fact(a)\n",
        "print(\"Factorial:\",res)\n",
        "\n"
      ],
      "metadata": {
        "colab": {
          "base_uri": "https://localhost:8080/"
        },
        "id": "HumgRfKeHczV",
        "outputId": "9e29b5d3-e0f0-431e-83c6-4650f370bb06"
      },
      "execution_count": null,
      "outputs": [
        {
          "output_type": "stream",
          "name": "stdout",
          "text": [
            "Enter a Number:4\n",
            "Factorial: 24\n"
          ]
        }
      ]
    },
    {
      "cell_type": "markdown",
      "source": [
        "**Fibonacci Sequence**"
      ],
      "metadata": {
        "id": "5yn7V2n4PPPx"
      }
    },
    {
      "cell_type": "code",
      "source": [
        "def fib(n):\n",
        "    if n == 0:\n",
        "        return 0\n",
        "    elif n == 1:\n",
        "        return 1\n",
        "    else:\n",
        "        return fib(n - 1) + fib(n - 2)\n",
        "\n",
        "a = int(input(\"Enter a Number: \"))\n",
        "for i in range(a):\n",
        "    print(fib(i), end=\" \")\n"
      ],
      "metadata": {
        "colab": {
          "base_uri": "https://localhost:8080/"
        },
        "id": "ZioPQ3HPPV7A",
        "outputId": "93cf331b-4aab-46ca-c6a0-4081e229b3f7"
      },
      "execution_count": null,
      "outputs": [
        {
          "output_type": "stream",
          "name": "stdout",
          "text": [
            "Enter a Number: 3\n",
            "0 1 1 "
          ]
        }
      ]
    },
    {
      "cell_type": "markdown",
      "source": [
        "**Reverse a String**"
      ],
      "metadata": {
        "id": "nNFqlu7sVhN0"
      }
    },
    {
      "cell_type": "code",
      "source": [
        "s=input(\"Enter a string:\")\n",
        "print(\"The reversed string:\",s[::-1])"
      ],
      "metadata": {
        "colab": {
          "base_uri": "https://localhost:8080/"
        },
        "id": "m73X1BWfVnjb",
        "outputId": "ef0c7a31-e65a-47a9-87ae-039a01f40639"
      },
      "execution_count": null,
      "outputs": [
        {
          "output_type": "stream",
          "name": "stdout",
          "text": [
            "Enter a string:hii\n",
            "The reversed string: iih\n"
          ]
        }
      ]
    },
    {
      "cell_type": "markdown",
      "source": [
        "**Palindrome Check**"
      ],
      "metadata": {
        "id": "-XQ84eNGXbD9"
      }
    },
    {
      "cell_type": "code",
      "source": [
        "s=input(\"Enter a String:\")\n",
        "if s==s[::-1]:\n",
        "  print(\"True.It is a Palindrome\")\n",
        "else:\n",
        "  print(\"False.It is not a Palindrome\")"
      ],
      "metadata": {
        "colab": {
          "base_uri": "https://localhost:8080/"
        },
        "id": "jmFJ14XcXcuj",
        "outputId": "2c8a574f-54cf-4680-c406-cbe5a4c95c59"
      },
      "execution_count": null,
      "outputs": [
        {
          "output_type": "stream",
          "name": "stdout",
          "text": [
            "Enter a String:mam\n",
            "True.It is a Palindrome\n"
          ]
        }
      ]
    },
    {
      "cell_type": "markdown",
      "source": [
        "**Leap Year Check**"
      ],
      "metadata": {
        "id": "8UxE-HBTX5Li"
      }
    },
    {
      "cell_type": "code",
      "source": [
        "y = int(input(\"Enter Year: \"))\n",
        "if y % 400 == 0 or (y % 4 == 0 and y % 100 != 0):\n",
        "    print(\"True.It is a Leap Year\")\n",
        "else:\n",
        "    print(\"False.It is not a Leap Year\")"
      ],
      "metadata": {
        "colab": {
          "base_uri": "https://localhost:8080/"
        },
        "id": "Uy2b2pNnX7rp",
        "outputId": "7fd8fa21-249a-42c3-dfc4-406039348454"
      },
      "execution_count": null,
      "outputs": [
        {
          "output_type": "stream",
          "name": "stdout",
          "text": [
            "Enter Year: 2024\n",
            "True.It is a Leap Year\n"
          ]
        }
      ]
    },
    {
      "cell_type": "markdown",
      "source": [
        "**Armstrong Number**"
      ],
      "metadata": {
        "id": "7R6n15s1YjxB"
      }
    },
    {
      "cell_type": "code",
      "source": [
        "n = int(input(\"Enter Number: \"))\n",
        "originalnum = n\n",
        "rem = 0\n",
        "sum = 0\n",
        "digits = 0\n",
        "\n",
        "temp = n\n",
        "while temp > 0:\n",
        "    digits += 1\n",
        "    temp //= 10\n",
        "\n",
        "temp = n\n",
        "while temp != 0:\n",
        "    rem = temp % 10\n",
        "    sum += pow(rem, digits)\n",
        "    temp //= 10\n",
        "\n",
        "if sum == originalnum:\n",
        "    print(\"True.It is a Armstrong\")\n",
        "else:\n",
        "    print(\"False.It is not a Armstrong\")\n"
      ],
      "metadata": {
        "colab": {
          "base_uri": "https://localhost:8080/"
        },
        "id": "aMHHtflYYpai",
        "outputId": "430fec07-ce27-4ffc-81c6-08411e734f2c"
      },
      "execution_count": null,
      "outputs": [
        {
          "output_type": "stream",
          "name": "stdout",
          "text": [
            "Enter Number: 153\n",
            "True.It is a Armstrong\n"
          ]
        }
      ]
    },
    {
      "cell_type": "markdown",
      "source": [
        "**Custom Encryption-Decryption System**"
      ],
      "metadata": {
        "id": "37kXAJLD1maZ"
      }
    },
    {
      "cell_type": "code",
      "source": [
        "# Encryption\n",
        "def encrypt(text, shift):\n",
        "    encrypted = \"\"\n",
        "    for char in text:\n",
        "        if char.isalpha():\n",
        "            shift_base = ord('A') if char.isupper() else ord('a')\n",
        "            encrypted += chr((ord(char) - shift_base + shift) % 26 + shift_base)\n",
        "        else:\n",
        "            encrypted += char\n",
        "    return encrypted\n",
        "\n",
        "# Decryption\n",
        "def decrypt(text, shift):\n",
        "    return encrypt(text, -shift)  # Decryption is the same as encryption, but with a negative shift\n",
        "\n",
        "# Main program\n",
        "message = input(\"Enter a message: \")\n",
        "key = int(input(\"Enter shift value: \"))\n",
        "\n",
        "encrypted = encrypt(message, key)\n",
        "print(\"Encrypted:\", encrypted)\n",
        "\n",
        "decrypted = decrypt(encrypted, key)\n",
        "print(\"Decrypted:\", decrypted)\n"
      ],
      "metadata": {
        "colab": {
          "base_uri": "https://localhost:8080/"
        },
        "id": "sBOM7hZ71xp_",
        "outputId": "afcbe811-75e4-40a7-f776-3234d26679cf"
      },
      "execution_count": null,
      "outputs": [
        {
          "output_type": "stream",
          "name": "stdout",
          "text": [
            "Enter a message: hello\n",
            "Enter shift value: 3\n",
            "Encrypted: khoor\n",
            "Decrypted: hello\n"
          ]
        }
      ]
    }
  ]
}