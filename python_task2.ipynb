{
  "nbformat": 4,
  "nbformat_minor": 0,
  "metadata": {
    "colab": {
      "provenance": [],
      "authorship_tag": "ABX9TyOve5xRKaFUFixwcAtlPCH2",
      "include_colab_link": true
    },
    "kernelspec": {
      "name": "python3",
      "display_name": "Python 3"
    },
    "language_info": {
      "name": "python"
    }
  },
  "cells": [
    {
      "cell_type": "markdown",
      "metadata": {
        "id": "view-in-github",
        "colab_type": "text"
      },
      "source": [
        "<a href=\"https://colab.research.google.com/github/sowmyagorrepati/Python/blob/main/python_task2.ipynb\" target=\"_parent\"><img src=\"https://colab.research.google.com/assets/colab-badge.svg\" alt=\"Open In Colab\"/></a>"
      ]
    },
    {
      "cell_type": "markdown",
      "source": [
        "**Prime Number**"
      ],
      "metadata": {
        "id": "KaPKNYfIYkHp"
      }
    },
    {
      "cell_type": "code",
      "execution_count": null,
      "metadata": {
        "colab": {
          "base_uri": "https://localhost:8080/"
        },
        "id": "c6G2P_zNYcRN",
        "outputId": "7b25714e-27a4-4633-8b4d-8eea07a0cbfd"
      },
      "outputs": [
        {
          "output_type": "stream",
          "name": "stdout",
          "text": [
            "Enter a number:23\n",
            "23 is a prime number\n"
          ]
        }
      ],
      "source": [
        "n=int(input(\"Enter a number:\"))\n",
        "count=0\n",
        "if(n<=1):\n",
        "  print(n,\"is not a prime number\")\n",
        "else:\n",
        "  for i in range(2,n):\n",
        "    if(n%i==0):\n",
        "      count+=1\n",
        "      break\n",
        "  if(count==0):\n",
        "    print(n,\"is a prime number\")\n",
        "  else:\n",
        "    print(n,\"is not a prime number\")\n",
        "\n"
      ]
    },
    {
      "cell_type": "markdown",
      "source": [
        "**Sum of Digits**"
      ],
      "metadata": {
        "id": "q0FFlLpraWB9"
      }
    },
    {
      "cell_type": "code",
      "source": [
        "n=int(input(\"Enter a number:\"))\n",
        "sum=0\n",
        "temp=n\n",
        "while temp!=0:\n",
        "  sum+=temp%10\n",
        "  temp=temp//10\n",
        "print(\"sum of digits of\",n,\"is\",sum)"
      ],
      "metadata": {
        "colab": {
          "base_uri": "https://localhost:8080/"
        },
        "id": "8BOGz9AHakeZ",
        "outputId": "b3f04657-5fa9-431a-83a6-312369a104f3"
      },
      "execution_count": null,
      "outputs": [
        {
          "output_type": "stream",
          "name": "stdout",
          "text": [
            "Enter a number:23\n",
            "sum of digits of 23 is 5\n"
          ]
        }
      ]
    },
    {
      "cell_type": "markdown",
      "source": [
        "**LCM and GCD**"
      ],
      "metadata": {
        "id": "KYLfctSQbigS"
      }
    },
    {
      "cell_type": "code",
      "source": [
        "import math\n",
        "\n",
        "a = int(input(\"Enter the first integer: \"))\n",
        "b = int(input(\"Enter the second integer: \"))\n",
        "\n",
        "gcd = math.gcd(a, b)\n",
        "lcm = abs(a * b) // gcd\n",
        "\n",
        "print(f\"GCD of {a} and {b} is: {gcd}\")\n",
        "print(f\"LCM of {a} and {b} is: {lcm}\")"
      ],
      "metadata": {
        "colab": {
          "base_uri": "https://localhost:8080/"
        },
        "id": "O8Buhse_bmda",
        "outputId": "88a161e6-bad1-4490-b0f7-ea3abc4a648c"
      },
      "execution_count": null,
      "outputs": [
        {
          "output_type": "stream",
          "name": "stdout",
          "text": [
            "Enter the first integer: 2\n",
            "Enter the second integer: 3\n",
            "GCD of 2 and 3 is: 1\n",
            "LCM of 2 and 3 is: 6\n"
          ]
        }
      ]
    },
    {
      "cell_type": "markdown",
      "source": [
        "**List Reversal**"
      ],
      "metadata": {
        "id": "mxV1tgqDck03"
      }
    },
    {
      "cell_type": "code",
      "source": [
        "nums = list(map(int, input(\"Enter a list of integers separated by spaces: \").split()))\n",
        "\n",
        "n = len(nums)\n",
        "for i in range(n // 2):\n",
        "    # Swap the i-th element with the (n-i-1)-th element\n",
        "    nums[i], nums[n - i - 1] = nums[n - i - 1], nums[i]\n",
        "\n",
        "print(\"Reversed list:\", nums)\n",
        "\n",
        "#nums.reverse()\n",
        "#print(\"Reversed list:\",nums)"
      ],
      "metadata": {
        "colab": {
          "base_uri": "https://localhost:8080/"
        },
        "id": "0BXnEzzXcyxh",
        "outputId": "0436138d-5e88-4d0d-dfe9-bf0d0bde05f0"
      },
      "execution_count": null,
      "outputs": [
        {
          "output_type": "stream",
          "name": "stdout",
          "text": [
            "Enter a list of integers separated by spaces: 1 2 3 4 5\n",
            "Reversed list: [5, 4, 3, 2, 1]\n"
          ]
        }
      ]
    },
    {
      "cell_type": "markdown",
      "source": [
        "**Sort a List**"
      ],
      "metadata": {
        "id": "pxsq-4M8eSJo"
      }
    },
    {
      "cell_type": "code",
      "source": [
        "nums=list(map(int,input(\"Enter a list of integers separated by spaces: \").split()))\n",
        "nums.sort()\n",
        "print(\"Sorted list:\",nums)"
      ],
      "metadata": {
        "colab": {
          "base_uri": "https://localhost:8080/"
        },
        "id": "ho11ctbqdn_2",
        "outputId": "41effe44-79dc-4d16-9be4-8d6435ce0346"
      },
      "execution_count": null,
      "outputs": [
        {
          "output_type": "stream",
          "name": "stdout",
          "text": [
            "Enter a list of integers separated by spaces: 90 23 5 25 22 15\n",
            "Sorted list: [5, 15, 22, 23, 25, 90]\n"
          ]
        }
      ]
    },
    {
      "cell_type": "markdown",
      "source": [
        "**Remove Duplicates**"
      ],
      "metadata": {
        "id": "Lj9nzvmieUUz"
      }
    },
    {
      "cell_type": "code",
      "source": [
        "nums = list(map(int, input(\"Enter a list of integers separated by spaces: \").split()))\n",
        "\n",
        "# Remove duplicates using a loop\n",
        "unique_nums = []\n",
        "for num in nums:\n",
        "    if num not in unique_nums:\n",
        "        unique_nums.append(num)\n",
        "\n",
        "# Remove duplicates using a set\n",
        "#unique_nums = list(set(nums))\n",
        "\n",
        "print(\"List with unique elements:\", unique_nums)\n"
      ],
      "metadata": {
        "colab": {
          "base_uri": "https://localhost:8080/"
        },
        "id": "SRGR33YzeY0L",
        "outputId": "b7855cdf-8026-4286-df7d-f1e4e0cb65b1"
      },
      "execution_count": null,
      "outputs": [
        {
          "output_type": "stream",
          "name": "stdout",
          "text": [
            "Enter a list of integers separated by spaces: 1 2 5 5 3\n",
            "List with unique elements: [1, 2, 5, 3]\n"
          ]
        }
      ]
    },
    {
      "cell_type": "markdown",
      "source": [
        "**String Length**"
      ],
      "metadata": {
        "id": "amuijsg5gf5r"
      }
    },
    {
      "cell_type": "code",
      "source": [
        "s =input(\"Enter a string \")\n",
        "count=0\n",
        "for i in s:\n",
        "  count+=1\n",
        "print(\"Length of the string is:\",count)\n",
        "#print(\"Length of the string is:\",len(s))"
      ],
      "metadata": {
        "colab": {
          "base_uri": "https://localhost:8080/"
        },
        "id": "8zbYPXXvgSFi",
        "outputId": "fe3fd2df-98af-4a41-bd69-d5bcd40886fa"
      },
      "execution_count": null,
      "outputs": [
        {
          "output_type": "stream",
          "name": "stdout",
          "text": [
            "Enter a string hello\n",
            "Length of the string is: 5\n"
          ]
        }
      ]
    },
    {
      "cell_type": "markdown",
      "source": [
        "**Count Vowels and Consonants**"
      ],
      "metadata": {
        "id": "qX4q66Q7hVdf"
      }
    },
    {
      "cell_type": "code",
      "source": [
        "s=input(\"Enter a String: \")\n",
        "vowels=['a','e','i','o','u','A','E','I','O','U']\n",
        "vowel_count=0\n",
        "consonant_count=0\n",
        "for i in s:\n",
        "  if i in vowels:\n",
        "    vowel_count+=1\n",
        "  else:\n",
        "    consonant_count+=1\n",
        "print(\"Total vowels:\",vowel_count)\n",
        "print(\"Total consonants:\",consonant_count)"
      ],
      "metadata": {
        "colab": {
          "base_uri": "https://localhost:8080/"
        },
        "id": "XSV_aUKxhX9k",
        "outputId": "65df39e2-7314-4f7b-a25f-4cecb9cf3af9"
      },
      "execution_count": null,
      "outputs": [
        {
          "output_type": "stream",
          "name": "stdout",
          "text": [
            "Enter a String: hEllo\n",
            "Total vowels: 2\n",
            "Total consonants: 3\n"
          ]
        }
      ]
    },
    {
      "cell_type": "markdown",
      "source": [
        "**Maze Generator and Solve**"
      ],
      "metadata": {
        "id": "y1YtrBiBioPm"
      }
    },
    {
      "cell_type": "code",
      "source": [
        "import random\n",
        "\n",
        "def generate_maze(n, m):\n",
        "    # Initialize maze grid\n",
        "    maze = [[1 for _ in range(m)] for _ in range(n)]\n",
        "    directions = [(-2, 0), (2, 0), (0, -2), (0, 2)]  # Up, Down, Left, Right\n",
        "\n",
        "    def is_valid(x, y):\n",
        "        return 0 <= x < n and 0 <= y < m and maze[x][y] == 1\n",
        "\n",
        "    def carve_path(x, y):\n",
        "        maze[x][y] = 0\n",
        "        random.shuffle(directions)  # Shuffle directions for randomness\n",
        "        for dx, dy in directions:\n",
        "            nx, ny = x + dx, y + dy\n",
        "            mx, my = x + dx // 2, y + dy // 2  # Middle point\n",
        "            if is_valid(nx, ny):\n",
        "                maze[mx][my] = 0  # Break the wall\n",
        "                carve_path(nx, ny)\n",
        "\n",
        "    carve_path(0, 0)  # Start carving from the top-left corner\n",
        "    maze[0][0], maze[n-1][m-1] = 0, 0  # Ensure start and end are paths\n",
        "    return maze\n",
        "\n",
        "def solve_maze(maze):\n",
        "    n, m = len(maze), len(maze[0])\n",
        "    start, end = (0, 0), (n-1, m-1)\n",
        "    directions = [(-1, 0), (1, 0), (0, -1), (0, 1)]  # Up, Down, Left, Right\n",
        "    visited = [[False for _ in range(m)] for _ in range(n)]\n",
        "    path = []\n",
        "\n",
        "    def dfs(x, y):\n",
        "        if (x, y) == end:\n",
        "            path.append((x, y))\n",
        "            return True\n",
        "        visited[x][y] = True\n",
        "        path.append((x, y))\n",
        "        for dx, dy in directions:\n",
        "            nx, ny = x + dx, y + dy\n",
        "            if 0 <= nx < n and 0 <= ny < m and maze[nx][ny] == 0 and not visited[nx][ny]:\n",
        "                if dfs(nx, ny):\n",
        "                    return True\n",
        "        path.pop()\n",
        "        return False\n",
        "\n",
        "    dfs(*start)\n",
        "    return path\n",
        "\n",
        "def display_maze(maze, solution=None):\n",
        "    n, m = len(maze), len(maze[0])\n",
        "    for i in range(n):\n",
        "        for j in range(m):\n",
        "            if solution and (i, j) in solution:\n",
        "                print('.', end=' ')  # Path in solution\n",
        "            elif maze[i][j] == 1:\n",
        "                print('█', end=' ')\n",
        "            else:\n",
        "                print(' ', end=' ')\n",
        "        print()\n",
        "\n",
        "# Example Usage\n",
        "n, m = 11, 11  # Maze dimensions (must be odd for proper generation)\n",
        "maze = generate_maze(n, m)\n",
        "print(\"Generated Maze:\")\n",
        "display_maze(maze)\n",
        "\n",
        "solution = solve_maze(maze)\n",
        "print(\"\\nMaze Solution:\")\n",
        "display_maze(maze, solution=solution)\n"
      ],
      "metadata": {
        "id": "u0zEsEPFiqv4",
        "colab": {
          "base_uri": "https://localhost:8080/"
        },
        "outputId": "66347e9c-a70d-4efa-a0c7-5cc6b0654516"
      },
      "execution_count": 2,
      "outputs": [
        {
          "output_type": "stream",
          "name": "stdout",
          "text": [
            "Generated Maze:\n",
            "          █           \n",
            "█ █ █ █   █ █ █   █ █ \n",
            "      █       █       \n",
            "  █   █ █ █   █ █ █   \n",
            "  █   █   █       █   \n",
            "  █   █   █ █ █   █   \n",
            "  █       █       █   \n",
            "  █ █ █ █ █   █ █ █   \n",
            "  █           █   █   \n",
            "  █   █ █ █ █ █   █   \n",
            "                      \n",
            "\n",
            "Maze Solution:\n",
            ". . . . . █           \n",
            "█ █ █ █ . █ █ █   █ █ \n",
            "      █ . . . █       \n",
            "  █   █ █ █ . █ █ █   \n",
            "  █   █   █ . . . █   \n",
            "  █   █   █ █ █ . █   \n",
            "  █       █ . . . █   \n",
            "  █ █ █ █ █ . █ █ █   \n",
            "  █ . . . . . █   █   \n",
            "  █ . █ █ █ █ █   █   \n",
            "    . . . . . . . . . \n"
          ]
        }
      ]
    }
  ]
}